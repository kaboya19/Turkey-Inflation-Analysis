{
 "cells": [
  {
   "cell_type": "code",
   "execution_count": 8,
   "metadata": {},
   "outputs": [],
   "source": [
    "import pandas as pd\n",
    "import matplotlib.pyplot as plt\n",
    "import numpy as np\n",
    "cpi=pd.read_excel(\"./Datasets/tuketici fiyat endeksi (2003=100).xls\")\n",
    "#print(cpi[cpi['Tüketici fiyat endeks rakamları (2003=100)']=='Annual rate of change (%)'])\n",
    "#print(cpi.iloc[76:98])\n",
    "inflation=cpi.iloc[79:98]\n",
    "inflation=pd.DataFrame(inflation)\n",
    "\n",
    "inflation.iloc[18,11]=83\n",
    "inflation.iloc[18,12]=64\n",
    "\n"
   ]
  },
  {
   "attachments": {},
   "cell_type": "markdown",
   "metadata": {},
   "source": [
    "## Data Preparation"
   ]
  },
  {
   "cell_type": "code",
   "execution_count": 9,
   "metadata": {},
   "outputs": [
    {
     "data": {
      "text/html": [
       "<div>\n",
       "<style scoped>\n",
       "    .dataframe tbody tr th:only-of-type {\n",
       "        vertical-align: middle;\n",
       "    }\n",
       "\n",
       "    .dataframe tbody tr th {\n",
       "        vertical-align: top;\n",
       "    }\n",
       "\n",
       "    .dataframe thead th {\n",
       "        text-align: right;\n",
       "    }\n",
       "</style>\n",
       "<table border=\"1\" class=\"dataframe\">\n",
       "  <thead>\n",
       "    <tr style=\"text-align: right;\">\n",
       "      <th></th>\n",
       "      <th>Yil</th>\n",
       "      <th>Ocak</th>\n",
       "      <th>Şubat</th>\n",
       "      <th>Mart</th>\n",
       "      <th>Nisan</th>\n",
       "      <th>Mayis</th>\n",
       "      <th>Haziran</th>\n",
       "      <th>Temmuz</th>\n",
       "      <th>Ağustos</th>\n",
       "      <th>Eylül</th>\n",
       "      <th>Ekim</th>\n",
       "      <th>Kasim</th>\n",
       "      <th>Aralik</th>\n",
       "    </tr>\n",
       "  </thead>\n",
       "  <tbody>\n",
       "    <tr>\n",
       "      <th>79</th>\n",
       "      <td>2004</td>\n",
       "      <td>10.59</td>\n",
       "      <td>9.48</td>\n",
       "      <td>8.4</td>\n",
       "      <td>7.87</td>\n",
       "      <td>7.31</td>\n",
       "      <td>7.08</td>\n",
       "      <td>7.79</td>\n",
       "      <td>8.45</td>\n",
       "      <td>8.01</td>\n",
       "      <td>9.43</td>\n",
       "      <td>9.47</td>\n",
       "      <td>9.35</td>\n",
       "    </tr>\n",
       "    <tr>\n",
       "      <th>80</th>\n",
       "      <td>2005</td>\n",
       "      <td>9.23</td>\n",
       "      <td>8.69</td>\n",
       "      <td>7.94</td>\n",
       "      <td>8.18</td>\n",
       "      <td>8.7</td>\n",
       "      <td>8.95</td>\n",
       "      <td>7.82</td>\n",
       "      <td>7.91</td>\n",
       "      <td>7.99</td>\n",
       "      <td>7.52</td>\n",
       "      <td>7.61</td>\n",
       "      <td>7.72</td>\n",
       "    </tr>\n",
       "    <tr>\n",
       "      <th>81</th>\n",
       "      <td>2006</td>\n",
       "      <td>7.93</td>\n",
       "      <td>8.15</td>\n",
       "      <td>8.16</td>\n",
       "      <td>8.83</td>\n",
       "      <td>9.86</td>\n",
       "      <td>10.12</td>\n",
       "      <td>11.69</td>\n",
       "      <td>10.26</td>\n",
       "      <td>10.55</td>\n",
       "      <td>9.98</td>\n",
       "      <td>9.86</td>\n",
       "      <td>9.65</td>\n",
       "    </tr>\n",
       "    <tr>\n",
       "      <th>82</th>\n",
       "      <td>2007</td>\n",
       "      <td>9.93</td>\n",
       "      <td>10.16</td>\n",
       "      <td>10.86</td>\n",
       "      <td>10.72</td>\n",
       "      <td>9.23</td>\n",
       "      <td>8.6</td>\n",
       "      <td>6.9</td>\n",
       "      <td>7.39</td>\n",
       "      <td>7.12</td>\n",
       "      <td>7.7</td>\n",
       "      <td>8.4</td>\n",
       "      <td>8.39</td>\n",
       "    </tr>\n",
       "    <tr>\n",
       "      <th>83</th>\n",
       "      <td>2008</td>\n",
       "      <td>8.17</td>\n",
       "      <td>9.1</td>\n",
       "      <td>9.15</td>\n",
       "      <td>9.66</td>\n",
       "      <td>10.74</td>\n",
       "      <td>10.61</td>\n",
       "      <td>12.06</td>\n",
       "      <td>11.77</td>\n",
       "      <td>11.13</td>\n",
       "      <td>11.99</td>\n",
       "      <td>10.76</td>\n",
       "      <td>10.06</td>\n",
       "    </tr>\n",
       "    <tr>\n",
       "      <th>84</th>\n",
       "      <td>2009</td>\n",
       "      <td>9.5</td>\n",
       "      <td>7.73</td>\n",
       "      <td>7.89</td>\n",
       "      <td>6.13</td>\n",
       "      <td>5.24</td>\n",
       "      <td>5.73</td>\n",
       "      <td>5.39</td>\n",
       "      <td>5.33</td>\n",
       "      <td>5.27</td>\n",
       "      <td>5.08</td>\n",
       "      <td>5.53</td>\n",
       "      <td>6.53</td>\n",
       "    </tr>\n",
       "    <tr>\n",
       "      <th>85</th>\n",
       "      <td>2010</td>\n",
       "      <td>8.19</td>\n",
       "      <td>10.13</td>\n",
       "      <td>9.56</td>\n",
       "      <td>10.19</td>\n",
       "      <td>9.1</td>\n",
       "      <td>8.37</td>\n",
       "      <td>7.58</td>\n",
       "      <td>8.33</td>\n",
       "      <td>9.24</td>\n",
       "      <td>8.62</td>\n",
       "      <td>7.29</td>\n",
       "      <td>6.4</td>\n",
       "    </tr>\n",
       "    <tr>\n",
       "      <th>86</th>\n",
       "      <td>2011</td>\n",
       "      <td>4.9</td>\n",
       "      <td>4.16</td>\n",
       "      <td>3.99</td>\n",
       "      <td>4.26</td>\n",
       "      <td>7.17</td>\n",
       "      <td>6.24</td>\n",
       "      <td>6.31</td>\n",
       "      <td>6.65</td>\n",
       "      <td>6.15</td>\n",
       "      <td>7.66</td>\n",
       "      <td>9.48</td>\n",
       "      <td>10.45</td>\n",
       "    </tr>\n",
       "    <tr>\n",
       "      <th>87</th>\n",
       "      <td>2012</td>\n",
       "      <td>10.61</td>\n",
       "      <td>10.43</td>\n",
       "      <td>10.43</td>\n",
       "      <td>11.14</td>\n",
       "      <td>8.28</td>\n",
       "      <td>8.87</td>\n",
       "      <td>9.07</td>\n",
       "      <td>8.88</td>\n",
       "      <td>9.19</td>\n",
       "      <td>7.8</td>\n",
       "      <td>6.37</td>\n",
       "      <td>6.16</td>\n",
       "    </tr>\n",
       "    <tr>\n",
       "      <th>88</th>\n",
       "      <td>2013</td>\n",
       "      <td>7.31</td>\n",
       "      <td>7.03</td>\n",
       "      <td>7.29</td>\n",
       "      <td>6.13</td>\n",
       "      <td>6.51</td>\n",
       "      <td>8.3</td>\n",
       "      <td>8.88</td>\n",
       "      <td>8.17</td>\n",
       "      <td>7.88</td>\n",
       "      <td>7.71</td>\n",
       "      <td>7.32</td>\n",
       "      <td>7.4</td>\n",
       "    </tr>\n",
       "    <tr>\n",
       "      <th>89</th>\n",
       "      <td>2014</td>\n",
       "      <td>7.75</td>\n",
       "      <td>7.89</td>\n",
       "      <td>8.39</td>\n",
       "      <td>9.38</td>\n",
       "      <td>9.66</td>\n",
       "      <td>9.16</td>\n",
       "      <td>9.32</td>\n",
       "      <td>9.54</td>\n",
       "      <td>8.86</td>\n",
       "      <td>8.96</td>\n",
       "      <td>9.15</td>\n",
       "      <td>8.17</td>\n",
       "    </tr>\n",
       "    <tr>\n",
       "      <th>90</th>\n",
       "      <td>2015</td>\n",
       "      <td>7.24</td>\n",
       "      <td>7.55</td>\n",
       "      <td>7.61</td>\n",
       "      <td>7.91</td>\n",
       "      <td>8.09</td>\n",
       "      <td>7.2</td>\n",
       "      <td>6.81</td>\n",
       "      <td>7.14</td>\n",
       "      <td>7.95</td>\n",
       "      <td>7.58</td>\n",
       "      <td>8.1</td>\n",
       "      <td>8.81</td>\n",
       "    </tr>\n",
       "    <tr>\n",
       "      <th>91</th>\n",
       "      <td>2016</td>\n",
       "      <td>9.58</td>\n",
       "      <td>8.78</td>\n",
       "      <td>7.46</td>\n",
       "      <td>6.57</td>\n",
       "      <td>6.58</td>\n",
       "      <td>7.64</td>\n",
       "      <td>8.79</td>\n",
       "      <td>8.05</td>\n",
       "      <td>7.28</td>\n",
       "      <td>7.16</td>\n",
       "      <td>7</td>\n",
       "      <td>8.53</td>\n",
       "    </tr>\n",
       "    <tr>\n",
       "      <th>92</th>\n",
       "      <td>2017</td>\n",
       "      <td>9.22</td>\n",
       "      <td>10.13</td>\n",
       "      <td>11.29</td>\n",
       "      <td>11.87</td>\n",
       "      <td>11.72</td>\n",
       "      <td>10.9</td>\n",
       "      <td>9.79</td>\n",
       "      <td>10.68</td>\n",
       "      <td>11.2</td>\n",
       "      <td>11.9</td>\n",
       "      <td>12.98</td>\n",
       "      <td>11.92</td>\n",
       "    </tr>\n",
       "    <tr>\n",
       "      <th>93</th>\n",
       "      <td>2018</td>\n",
       "      <td>10.35</td>\n",
       "      <td>10.26</td>\n",
       "      <td>10.23</td>\n",
       "      <td>10.85</td>\n",
       "      <td>12.15</td>\n",
       "      <td>15.39</td>\n",
       "      <td>15.85</td>\n",
       "      <td>17.9</td>\n",
       "      <td>24.52</td>\n",
       "      <td>25.24</td>\n",
       "      <td>21.62</td>\n",
       "      <td>20.3</td>\n",
       "    </tr>\n",
       "    <tr>\n",
       "      <th>94</th>\n",
       "      <td>2019</td>\n",
       "      <td>20.35</td>\n",
       "      <td>19.67</td>\n",
       "      <td>19.71</td>\n",
       "      <td>19.5</td>\n",
       "      <td>18.71</td>\n",
       "      <td>15.72</td>\n",
       "      <td>16.65</td>\n",
       "      <td>15.01</td>\n",
       "      <td>9.26</td>\n",
       "      <td>8.55</td>\n",
       "      <td>10.56</td>\n",
       "      <td>11.84</td>\n",
       "    </tr>\n",
       "    <tr>\n",
       "      <th>95</th>\n",
       "      <td>2020</td>\n",
       "      <td>12.15</td>\n",
       "      <td>12.37</td>\n",
       "      <td>11.86</td>\n",
       "      <td>10.94</td>\n",
       "      <td>11.39</td>\n",
       "      <td>12.62</td>\n",
       "      <td>11.76</td>\n",
       "      <td>11.77</td>\n",
       "      <td>11.75</td>\n",
       "      <td>11.89</td>\n",
       "      <td>14.03</td>\n",
       "      <td>14.6</td>\n",
       "    </tr>\n",
       "    <tr>\n",
       "      <th>96</th>\n",
       "      <td>2021</td>\n",
       "      <td>14.97</td>\n",
       "      <td>15.61</td>\n",
       "      <td>16.19</td>\n",
       "      <td>17.14</td>\n",
       "      <td>16.59</td>\n",
       "      <td>17.53</td>\n",
       "      <td>18.95</td>\n",
       "      <td>19.25</td>\n",
       "      <td>19.58</td>\n",
       "      <td>19.89</td>\n",
       "      <td>21.31</td>\n",
       "      <td>36.08</td>\n",
       "    </tr>\n",
       "    <tr>\n",
       "      <th>97</th>\n",
       "      <td>2022</td>\n",
       "      <td>48.69</td>\n",
       "      <td>54.44</td>\n",
       "      <td>61.14</td>\n",
       "      <td>69.97</td>\n",
       "      <td>73.5</td>\n",
       "      <td>78.62</td>\n",
       "      <td>79.6</td>\n",
       "      <td>80.21</td>\n",
       "      <td>83.45</td>\n",
       "      <td>85.51</td>\n",
       "      <td>83</td>\n",
       "      <td>64</td>\n",
       "    </tr>\n",
       "  </tbody>\n",
       "</table>\n",
       "</div>"
      ],
      "text/plain": [
       "     Yil   Ocak  Şubat   Mart  Nisan  Mayis Haziran Temmuz Ağustos  Eylül  \\\n",
       "79  2004  10.59   9.48    8.4   7.87   7.31    7.08   7.79    8.45   8.01   \n",
       "80  2005   9.23   8.69   7.94   8.18    8.7    8.95   7.82    7.91   7.99   \n",
       "81  2006   7.93   8.15   8.16   8.83   9.86   10.12  11.69   10.26  10.55   \n",
       "82  2007   9.93  10.16  10.86  10.72   9.23     8.6    6.9    7.39   7.12   \n",
       "83  2008   8.17    9.1   9.15   9.66  10.74   10.61  12.06   11.77  11.13   \n",
       "84  2009    9.5   7.73   7.89   6.13   5.24    5.73   5.39    5.33   5.27   \n",
       "85  2010   8.19  10.13   9.56  10.19    9.1    8.37   7.58    8.33   9.24   \n",
       "86  2011    4.9   4.16   3.99   4.26   7.17    6.24   6.31    6.65   6.15   \n",
       "87  2012  10.61  10.43  10.43  11.14   8.28    8.87   9.07    8.88   9.19   \n",
       "88  2013   7.31   7.03   7.29   6.13   6.51     8.3   8.88    8.17   7.88   \n",
       "89  2014   7.75   7.89   8.39   9.38   9.66    9.16   9.32    9.54   8.86   \n",
       "90  2015   7.24   7.55   7.61   7.91   8.09     7.2   6.81    7.14   7.95   \n",
       "91  2016   9.58   8.78   7.46   6.57   6.58    7.64   8.79    8.05   7.28   \n",
       "92  2017   9.22  10.13  11.29  11.87  11.72    10.9   9.79   10.68   11.2   \n",
       "93  2018  10.35  10.26  10.23  10.85  12.15   15.39  15.85    17.9  24.52   \n",
       "94  2019  20.35  19.67  19.71   19.5  18.71   15.72  16.65   15.01   9.26   \n",
       "95  2020  12.15  12.37  11.86  10.94  11.39   12.62  11.76   11.77  11.75   \n",
       "96  2021  14.97  15.61  16.19  17.14  16.59   17.53  18.95   19.25  19.58   \n",
       "97  2022  48.69  54.44  61.14  69.97   73.5   78.62   79.6   80.21  83.45   \n",
       "\n",
       "     Ekim  Kasim Aralik  \n",
       "79   9.43   9.47   9.35  \n",
       "80   7.52   7.61   7.72  \n",
       "81   9.98   9.86   9.65  \n",
       "82    7.7    8.4   8.39  \n",
       "83  11.99  10.76  10.06  \n",
       "84   5.08   5.53   6.53  \n",
       "85   8.62   7.29    6.4  \n",
       "86   7.66   9.48  10.45  \n",
       "87    7.8   6.37   6.16  \n",
       "88   7.71   7.32    7.4  \n",
       "89   8.96   9.15   8.17  \n",
       "90   7.58    8.1   8.81  \n",
       "91   7.16      7   8.53  \n",
       "92   11.9  12.98  11.92  \n",
       "93  25.24  21.62   20.3  \n",
       "94   8.55  10.56  11.84  \n",
       "95  11.89  14.03   14.6  \n",
       "96  19.89  21.31  36.08  \n",
       "97  85.51     83     64  "
      ]
     },
     "execution_count": 9,
     "metadata": {},
     "output_type": "execute_result"
    }
   ],
   "source": [
    "\n",
    "\n",
    "inflation = inflation.set_axis([\"Yil\",\"Ocak\",\"Şubat\",\"Mart\",\"Nisan\",\"Mayis\",\"Haziran\",\"Temmuz\",\"Ağustos\",\"Eylül\",\"Ekim\",\"Kasim\",\"Aralik\"], axis=1, inplace=False)\n",
    "inflation"
   ]
  },
  {
   "cell_type": "code",
   "execution_count": null,
   "metadata": {},
   "outputs": [],
   "source": [
    "\n"
   ]
  },
  {
   "cell_type": "code",
   "execution_count": 10,
   "metadata": {},
   "outputs": [
    {
     "data": {
      "image/png": "[encoded data removed]",
      "text/plain": [
       "<Figure size 640x480 with 1 Axes>"
      ]
     },
     "metadata": {},
     "output_type": "display_data"
    }
   ],
   "source": [
    "dates=pd.date_range('2004-01-01','2023-01-01' , freq='1M')-pd.offsets.MonthBegin(1)\n",
    "df=pd.DataFrame()\n",
    "del inflation[\"Yil\"]\n",
    "v=np.array(inflation.values)\n",
    "v=v.flatten()\n",
    "df[\"Inflation\"]=v\n",
    "df=df.set_index(dates)\n",
    "plt.figure()\n",
    "plt.title(\"Turkey's Inflation\")\n",
    "\n",
    "plt.plot(df)\n",
    "plt.show()\n"
   ]
  },
  {
   "cell_type": "code",
   "execution_count": 17,
   "metadata": {},
   "outputs": [],
   "source": [
    "df['TIME']=df.index\n"
   ]
  },
  {
   "cell_type": "code",
   "execution_count": 18,
   "metadata": {},
   "outputs": [],
   "source": [
    "df['TIME'].replace(regex=True,inplace=True, to_replace='M',value='')\n",
    "df['TIME'] =  pd.to_datetime(df['TIME'], format='%Y%m', errors='ignore', infer_datetime_format=True)\n",
    "df = df.set_index(['TIME'])"
   ]
  },
  {
   "cell_type": "code",
   "execution_count": 21,
   "metadata": {},
   "outputs": [
    {
     "data": {
      "text/html": [
       "<div>\n",
       "<style scoped>\n",
       "    .dataframe tbody tr th:only-of-type {\n",
       "        vertical-align: middle;\n",
       "    }\n",
       "\n",
       "    .dataframe tbody tr th {\n",
       "        vertical-align: top;\n",
       "    }\n",
       "\n",
       "    .dataframe thead th {\n",
       "        text-align: right;\n",
       "    }\n",
       "</style>\n",
       "<table border=\"1\" class=\"dataframe\">\n",
       "  <thead>\n",
       "    <tr style=\"text-align: right;\">\n",
       "      <th></th>\n",
       "      <th>Value</th>\n",
       "    </tr>\n",
       "    <tr>\n",
       "      <th>TIME</th>\n",
       "      <th></th>\n",
       "    </tr>\n",
       "  </thead>\n",
       "  <tbody>\n",
       "    <tr>\n",
       "      <th>2004-01-01</th>\n",
       "      <td>10.59</td>\n",
       "    </tr>\n",
       "    <tr>\n",
       "      <th>2004-02-01</th>\n",
       "      <td>9.48</td>\n",
       "    </tr>\n",
       "    <tr>\n",
       "      <th>2004-03-01</th>\n",
       "      <td>8.4</td>\n",
       "    </tr>\n",
       "    <tr>\n",
       "      <th>2004-04-01</th>\n",
       "      <td>7.87</td>\n",
       "    </tr>\n",
       "    <tr>\n",
       "      <th>2004-05-01</th>\n",
       "      <td>7.31</td>\n",
       "    </tr>\n",
       "    <tr>\n",
       "      <th>...</th>\n",
       "      <td>...</td>\n",
       "    </tr>\n",
       "    <tr>\n",
       "      <th>2022-08-01</th>\n",
       "      <td>80.21</td>\n",
       "    </tr>\n",
       "    <tr>\n",
       "      <th>2022-09-01</th>\n",
       "      <td>83.45</td>\n",
       "    </tr>\n",
       "    <tr>\n",
       "      <th>2022-10-01</th>\n",
       "      <td>85.51</td>\n",
       "    </tr>\n",
       "    <tr>\n",
       "      <th>2022-11-01</th>\n",
       "      <td>83</td>\n",
       "    </tr>\n",
       "    <tr>\n",
       "      <th>2022-12-01</th>\n",
       "      <td>64</td>\n",
       "    </tr>\n",
       "  </tbody>\n",
       "</table>\n",
       "<p>228 rows × 1 columns</p>\n",
       "</div>"
      ],
      "text/plain": [
       "            Value\n",
       "TIME             \n",
       "2004-01-01  10.59\n",
       "2004-02-01   9.48\n",
       "2004-03-01    8.4\n",
       "2004-04-01   7.87\n",
       "2004-05-01   7.31\n",
       "...           ...\n",
       "2022-08-01  80.21\n",
       "2022-09-01  83.45\n",
       "2022-10-01  85.51\n",
       "2022-11-01     83\n",
       "2022-12-01     64\n",
       "\n",
       "[228 rows x 1 columns]"
      ]
     },
     "execution_count": 21,
     "metadata": {},
     "output_type": "execute_result"
    }
   ],
   "source": [
    "df.columns=[\"Value\"]\n",
    "df"
   ]
  },
  {
   "cell_type": "code",
   "execution_count": 22,
   "metadata": {},
   "outputs": [
    {
     "data": {
      "text/plain": [
       "Test Statistic                  -0.600143\n",
       "p-value                          0.870950\n",
       "#Lags Used                      15.000000\n",
       "Number of Observations Used    212.000000\n",
       "Critical Value (1%)             -3.461578\n",
       "Critical Value (5%)             -2.875272\n",
       "Critical Value (10%)            -2.574089\n",
       "dtype: float64"
      ]
     },
     "execution_count": 22,
     "metadata": {},
     "output_type": "execute_result"
    }
   ],
   "source": [
    "\n",
    "from statsmodels.tsa.stattools import adfuller\n",
    "def testStationarity(ts):\n",
    "    dftest = adfuller(ts)\n",
    "    dfoutput = pd.Series(dftest[0:4], index=['Test Statistic','p-value','#Lags Used','Number of Observations Used'])\n",
    "    for key,value in dftest[4].items():\n",
    "        dfoutput['Critical Value (%s)'%key] = value\n",
    "    return dfoutput\n",
    "\n",
    "testStationarity(df.Value)"
   ]
  },
  {
   "cell_type": "code",
   "execution_count": 23,
   "metadata": {},
   "outputs": [
    {
     "name": "stdout",
     "output_type": "stream",
     "text": [
      "Performing stepwise search to minimize aic\n",
      " ARIMA(1,1,1)(0,1,1)[12]             : AIC=inf, Time=2.17 sec\n",
      " ARIMA(0,1,0)(0,1,0)[12]             : AIC=1134.006, Time=0.05 sec\n",
      " ARIMA(1,1,0)(1,1,0)[12]             : AIC=993.023, Time=0.48 sec\n",
      " ARIMA(0,1,1)(0,1,1)[12]             : AIC=inf, Time=2.28 sec\n",
      " ARIMA(1,1,0)(0,1,0)[12]             : AIC=1104.650, Time=0.06 sec\n",
      " ARIMA(1,1,0)(2,1,0)[12]             : AIC=936.651, Time=0.66 sec\n",
      " ARIMA(1,1,0)(2,1,1)[12]             : AIC=inf, Time=7.12 sec\n",
      " ARIMA(1,1,0)(1,1,1)[12]             : AIC=inf, Time=2.05 sec\n",
      " ARIMA(0,1,0)(2,1,0)[12]             : AIC=1023.890, Time=0.46 sec\n",
      " ARIMA(2,1,0)(2,1,0)[12]             : AIC=933.869, Time=0.87 sec\n",
      " ARIMA(2,1,0)(1,1,0)[12]             : AIC=992.329, Time=0.76 sec\n",
      " ARIMA(2,1,0)(2,1,1)[12]             : AIC=inf, Time=7.86 sec\n",
      " ARIMA(2,1,0)(1,1,1)[12]             : AIC=inf, Time=3.36 sec\n",
      " ARIMA(3,1,0)(2,1,0)[12]             : AIC=931.815, Time=1.18 sec\n",
      " ARIMA(3,1,0)(1,1,0)[12]             : AIC=983.558, Time=1.03 sec\n",
      " ARIMA(3,1,0)(2,1,1)[12]             : AIC=inf, Time=8.76 sec\n",
      " ARIMA(3,1,0)(1,1,1)[12]             : AIC=inf, Time=3.28 sec\n",
      " ARIMA(3,1,1)(2,1,0)[12]             : AIC=932.552, Time=1.79 sec\n",
      " ARIMA(2,1,1)(2,1,0)[12]             : AIC=930.832, Time=1.90 sec\n",
      " ARIMA(2,1,1)(1,1,0)[12]             : AIC=inf, Time=4.29 sec\n",
      " ARIMA(2,1,1)(2,1,1)[12]             : AIC=inf, Time=12.55 sec\n",
      " ARIMA(2,1,1)(1,1,1)[12]             : AIC=inf, Time=4.11 sec\n",
      " ARIMA(1,1,1)(2,1,0)[12]             : AIC=930.740, Time=1.00 sec\n",
      " ARIMA(1,1,1)(1,1,0)[12]             : AIC=985.964, Time=0.64 sec\n",
      " ARIMA(1,1,1)(2,1,1)[12]             : AIC=inf, Time=11.57 sec\n",
      " ARIMA(1,1,1)(1,1,1)[12]             : AIC=inf, Time=2.30 sec\n",
      " ARIMA(0,1,1)(2,1,0)[12]             : AIC=939.972, Time=0.76 sec\n",
      " ARIMA(1,1,2)(2,1,0)[12]             : AIC=930.572, Time=2.26 sec\n",
      " ARIMA(1,1,2)(1,1,0)[12]             : AIC=984.639, Time=1.00 sec\n",
      " ARIMA(1,1,2)(2,1,1)[12]             : AIC=inf, Time=11.26 sec\n",
      " ARIMA(1,1,2)(1,1,1)[12]             : AIC=inf, Time=5.00 sec\n",
      " ARIMA(0,1,2)(2,1,0)[12]             : AIC=934.745, Time=0.90 sec\n",
      " ARIMA(2,1,2)(2,1,0)[12]             : AIC=932.464, Time=2.15 sec\n",
      " ARIMA(1,1,3)(2,1,0)[12]             : AIC=inf, Time=5.69 sec\n",
      " ARIMA(0,1,3)(2,1,0)[12]             : AIC=932.282, Time=1.30 sec\n",
      " ARIMA(2,1,3)(2,1,0)[12]             : AIC=934.463, Time=3.75 sec\n",
      " ARIMA(1,1,2)(2,1,0)[12] intercept   : AIC=932.383, Time=6.71 sec\n",
      "\n",
      "Best model:  ARIMA(1,1,2)(2,1,0)[12]          \n",
      "Total fit time: 123.411 seconds\n"
     ]
    }
   ],
   "source": [
    "#Import Arima Model\n",
    "from pmdarima.arima import auto_arima\n",
    "\n",
    "results = auto_arima(df, start_p=1, start_q=1, max_p=3, max_q=3, m=12, start_P=0, seasonal=True, d=1, D=1, trace=True, error_action='ignore',\n",
    "suppress_warnings=True, stepwise=True)"
   ]
  },
  {
   "cell_type": "code",
   "execution_count": 24,
   "metadata": {},
   "outputs": [
    {
     "name": "stderr",
     "output_type": "stream",
     "text": [
      "c:\\Users\\Bora\\AppData\\Local\\Programs\\Python\\Python37\\lib\\site-packages\\statsmodels\\tsa\\base\\tsa_model.py:165: ValueWarning: No frequency information was provided, so inferred frequency MS will be used.\n",
      "  % freq, ValueWarning)\n"
     ]
    }
   ],
   "source": [
    "#Import Sarima Model\n",
    "import statsmodels.api as sm\n",
    "mod = sm.tsa.statespace.SARIMAX(df.astype(float),\n",
    "                                order=(1,1,2),\n",
    "                                seasonal_order=(2,1,0, 12),\n",
    "                                enforce_stationarity=False,\n",
    "                                enforce_invertibility=False)\n",
    "\n",
    "results = mod.fit()\n"
   ]
  },
  {
   "cell_type": "code",
   "execution_count": 25,
   "metadata": {},
   "outputs": [],
   "source": [
    "pred = results.get_prediction(start=pd.to_datetime('2016-10-01'), dynamic=False)\n",
    "pred_ci = pred.conf_int()"
   ]
  },
  {
   "cell_type": "code",
   "execution_count": 26,
   "metadata": {},
   "outputs": [
    {
     "data": {
      "text/html": [
       "<div>\n",
       "<style scoped>\n",
       "    .dataframe tbody tr th:only-of-type {\n",
       "        vertical-align: middle;\n",
       "    }\n",
       "\n",
       "    .dataframe tbody tr th {\n",
       "        vertical-align: top;\n",
       "    }\n",
       "\n",
       "    .dataframe thead th {\n",
       "        text-align: right;\n",
       "    }\n",
       "</style>\n",
       "<table border=\"1\" class=\"dataframe\">\n",
       "  <thead>\n",
       "    <tr style=\"text-align: right;\">\n",
       "      <th></th>\n",
       "      <th>lower Value</th>\n",
       "      <th>upper Value</th>\n",
       "      <th>Predicted</th>\n",
       "      <th>Observed</th>\n",
       "      <th>Diff, %%</th>\n",
       "    </tr>\n",
       "  </thead>\n",
       "  <tbody>\n",
       "    <tr>\n",
       "      <th>2022-03-01</th>\n",
       "      <td>54.101560</td>\n",
       "      <td>62.026551</td>\n",
       "      <td>58.064055</td>\n",
       "      <td>61.14</td>\n",
       "      <td>-5.030986</td>\n",
       "    </tr>\n",
       "    <tr>\n",
       "      <th>2022-04-01</th>\n",
       "      <td>61.297070</td>\n",
       "      <td>69.222061</td>\n",
       "      <td>65.259565</td>\n",
       "      <td>69.97</td>\n",
       "      <td>-6.732078</td>\n",
       "    </tr>\n",
       "    <tr>\n",
       "      <th>2022-05-01</th>\n",
       "      <td>72.620050</td>\n",
       "      <td>80.545041</td>\n",
       "      <td>76.582546</td>\n",
       "      <td>73.5</td>\n",
       "      <td>4.19394</td>\n",
       "    </tr>\n",
       "    <tr>\n",
       "      <th>2022-06-01</th>\n",
       "      <td>68.837124</td>\n",
       "      <td>76.762115</td>\n",
       "      <td>72.799619</td>\n",
       "      <td>78.62</td>\n",
       "      <td>-7.403181</td>\n",
       "    </tr>\n",
       "    <tr>\n",
       "      <th>2022-07-01</th>\n",
       "      <td>80.398073</td>\n",
       "      <td>88.323064</td>\n",
       "      <td>84.360569</td>\n",
       "      <td>79.6</td>\n",
       "      <td>5.980614</td>\n",
       "    </tr>\n",
       "    <tr>\n",
       "      <th>2022-08-01</th>\n",
       "      <td>73.326463</td>\n",
       "      <td>81.251454</td>\n",
       "      <td>77.288959</td>\n",
       "      <td>80.21</td>\n",
       "      <td>-3.641742</td>\n",
       "    </tr>\n",
       "    <tr>\n",
       "      <th>2022-09-01</th>\n",
       "      <td>74.878118</td>\n",
       "      <td>82.803109</td>\n",
       "      <td>78.840614</td>\n",
       "      <td>83.45</td>\n",
       "      <td>-5.52353</td>\n",
       "    </tr>\n",
       "    <tr>\n",
       "      <th>2022-10-01</th>\n",
       "      <td>83.947480</td>\n",
       "      <td>91.872471</td>\n",
       "      <td>87.909975</td>\n",
       "      <td>85.51</td>\n",
       "      <td>2.80666</td>\n",
       "    </tr>\n",
       "    <tr>\n",
       "      <th>2022-11-01</th>\n",
       "      <td>84.213319</td>\n",
       "      <td>92.138310</td>\n",
       "      <td>88.175814</td>\n",
       "      <td>83</td>\n",
       "      <td>6.235921</td>\n",
       "    </tr>\n",
       "    <tr>\n",
       "      <th>2022-12-01</th>\n",
       "      <td>71.602731</td>\n",
       "      <td>79.527723</td>\n",
       "      <td>75.565227</td>\n",
       "      <td>64</td>\n",
       "      <td>18.070667</td>\n",
       "    </tr>\n",
       "  </tbody>\n",
       "</table>\n",
       "</div>"
      ],
      "text/plain": [
       "            lower Value  upper Value  Predicted Observed   Diff, %%\n",
       "2022-03-01    54.101560    62.026551  58.064055    61.14  -5.030986\n",
       "2022-04-01    61.297070    69.222061  65.259565    69.97  -6.732078\n",
       "2022-05-01    72.620050    80.545041  76.582546     73.5    4.19394\n",
       "2022-06-01    68.837124    76.762115  72.799619    78.62  -7.403181\n",
       "2022-07-01    80.398073    88.323064  84.360569     79.6   5.980614\n",
       "2022-08-01    73.326463    81.251454  77.288959    80.21  -3.641742\n",
       "2022-09-01    74.878118    82.803109  78.840614    83.45   -5.52353\n",
       "2022-10-01    83.947480    91.872471  87.909975    85.51    2.80666\n",
       "2022-11-01    84.213319    92.138310  88.175814       83   6.235921\n",
       "2022-12-01    71.602731    79.527723  75.565227       64  18.070667"
      ]
     },
     "execution_count": 26,
     "metadata": {},
     "output_type": "execute_result"
    }
   ],
   "source": [
    "pred_ci['Predicted'] = (pred_ci['lower Value'] + pred_ci['upper Value'])/2\n",
    "pred_ci['Observed'] = df['Value']\n",
    "pred_ci['Diff, %%'] = ((pred_ci['Predicted'] / pred_ci['Observed'])-1) * 100\n",
    "pred_ci.tail(10)"
   ]
  },
  {
   "cell_type": "code",
   "execution_count": 27,
   "metadata": {},
   "outputs": [
    {
     "data": {
      "image/png": "[encoded data removed]",
      "text/plain": [
       "<Figure size 640x480 with 1 Axes>"
      ]
     },
     "metadata": {},
     "output_type": "display_data"
    }
   ],
   "source": [
    "ax = df['2003':].plot(label='observed')\n",
    "pred.predicted_mean.plot(ax=ax, label='Forecast', alpha=.7)\n",
    "\n",
    "ax.fill_between(pred_ci.index,\n",
    "                pred_ci.iloc[:, 0],\n",
    "                pred_ci.iloc[:, 1], color='k', alpha=.2)\n",
    "\n",
    "plt.xlabel('Date')\n",
    "plt.ylabel('Price')\n",
    "plt.title(\"Average Food Prices(₺)\")\n",
    "plt.legend()\n",
    "plt.show()"
   ]
  },
  {
   "cell_type": "code",
   "execution_count": 29,
   "metadata": {},
   "outputs": [],
   "source": [
    "# Get forecast\n",
    "pred_uc = results.get_forecast(steps=24)\n",
    "\n",
    "# Get confidence intervals of forecasts\n",
    "pred_ci = pred_uc.conf_int()"
   ]
  },
  {
   "cell_type": "code",
   "execution_count": 30,
   "metadata": {},
   "outputs": [
    {
     "data": {
      "image/png": "[encoded data removed]",
      "text/plain": [
       "<Figure size 1200x600 with 1 Axes>"
      ]
     },
     "metadata": {},
     "output_type": "display_data"
    }
   ],
   "source": [
    "ax = df.plot(label='observed', figsize=(12, 6))\n",
    "pred_uc.predicted_mean.plot(ax=ax, label='Forecast')\n",
    "ax.fill_between(pred_ci.index,\n",
    "                pred_ci.iloc[:, 0],\n",
    "                pred_ci.iloc[:, 1], color='k', alpha=.25)\n",
    "plt.xlabel('Date')\n",
    "plt.ylabel('Inflation')\n",
    "plt.title(\"Annual Inflation\")\n",
    "\n",
    "plt.legend()\n",
    "\n",
    "plt.show()"
   ]
  },
  {
   "cell_type": "code",
   "execution_count": 31,
   "metadata": {},
   "outputs": [
    {
     "data": {
      "text/html": [
       "<div>\n",
       "<style scoped>\n",
       "    .dataframe tbody tr th:only-of-type {\n",
       "        vertical-align: middle;\n",
       "    }\n",
       "\n",
       "    .dataframe tbody tr th {\n",
       "        vertical-align: top;\n",
       "    }\n",
       "\n",
       "    .dataframe thead th {\n",
       "        text-align: right;\n",
       "    }\n",
       "</style>\n",
       "<table border=\"1\" class=\"dataframe\">\n",
       "  <thead>\n",
       "    <tr style=\"text-align: right;\">\n",
       "      <th></th>\n",
       "      <th>lower Value</th>\n",
       "      <th>upper Value</th>\n",
       "    </tr>\n",
       "  </thead>\n",
       "  <tbody>\n",
       "    <tr>\n",
       "      <th>2023-01-01</th>\n",
       "      <td>45.490120</td>\n",
       "      <td>53.415111</td>\n",
       "    </tr>\n",
       "    <tr>\n",
       "      <th>2023-02-01</th>\n",
       "      <td>35.384266</td>\n",
       "      <td>51.790397</td>\n",
       "    </tr>\n",
       "    <tr>\n",
       "      <th>2023-03-01</th>\n",
       "      <td>26.394613</td>\n",
       "      <td>49.916293</td>\n",
       "    </tr>\n",
       "    <tr>\n",
       "      <th>2023-04-01</th>\n",
       "      <td>17.840281</td>\n",
       "      <td>47.817008</td>\n",
       "    </tr>\n",
       "    <tr>\n",
       "      <th>2023-05-01</th>\n",
       "      <td>12.095804</td>\n",
       "      <td>48.011263</td>\n",
       "    </tr>\n",
       "    <tr>\n",
       "      <th>2023-06-01</th>\n",
       "      <td>7.969588</td>\n",
       "      <td>49.380004</td>\n",
       "    </tr>\n",
       "    <tr>\n",
       "      <th>2023-07-01</th>\n",
       "      <td>4.681602</td>\n",
       "      <td>51.198661</td>\n",
       "    </tr>\n",
       "    <tr>\n",
       "      <th>2023-08-01</th>\n",
       "      <td>1.795340</td>\n",
       "      <td>53.078564</td>\n",
       "    </tr>\n",
       "    <tr>\n",
       "      <th>2023-09-01</th>\n",
       "      <td>-1.748040</td>\n",
       "      <td>54.002875</td>\n",
       "    </tr>\n",
       "    <tr>\n",
       "      <th>2023-10-01</th>\n",
       "      <td>-4.529399</td>\n",
       "      <td>55.427410</td>\n",
       "    </tr>\n",
       "    <tr>\n",
       "      <th>2023-11-01</th>\n",
       "      <td>-3.324886</td>\n",
       "      <td>60.607777</td>\n",
       "    </tr>\n",
       "    <tr>\n",
       "      <th>2023-12-01</th>\n",
       "      <td>11.633939</td>\n",
       "      <td>79.339730</td>\n",
       "    </tr>\n",
       "    <tr>\n",
       "      <th>2024-01-01</th>\n",
       "      <td>23.971340</td>\n",
       "      <td>94.423165</td>\n",
       "    </tr>\n",
       "    <tr>\n",
       "      <th>2024-02-01</th>\n",
       "      <td>29.226657</td>\n",
       "      <td>101.744782</td>\n",
       "    </tr>\n",
       "    <tr>\n",
       "      <th>2024-03-01</th>\n",
       "      <td>35.047429</td>\n",
       "      <td>109.378351</td>\n",
       "    </tr>\n",
       "    <tr>\n",
       "      <th>2024-04-01</th>\n",
       "      <td>42.582861</td>\n",
       "      <td>118.556026</td>\n",
       "    </tr>\n",
       "    <tr>\n",
       "      <th>2024-05-01</th>\n",
       "      <td>44.729828</td>\n",
       "      <td>122.226595</td>\n",
       "    </tr>\n",
       "    <tr>\n",
       "      <th>2024-06-01</th>\n",
       "      <td>48.514323</td>\n",
       "      <td>127.449476</td>\n",
       "    </tr>\n",
       "    <tr>\n",
       "      <th>2024-07-01</th>\n",
       "      <td>49.731187</td>\n",
       "      <td>130.041525</td>\n",
       "    </tr>\n",
       "    <tr>\n",
       "      <th>2024-08-01</th>\n",
       "      <td>49.855826</td>\n",
       "      <td>131.492926</td>\n",
       "    </tr>\n",
       "    <tr>\n",
       "      <th>2024-09-01</th>\n",
       "      <td>52.036266</td>\n",
       "      <td>134.961788</td>\n",
       "    </tr>\n",
       "    <tr>\n",
       "      <th>2024-10-01</th>\n",
       "      <td>53.218446</td>\n",
       "      <td>137.401041</td>\n",
       "    </tr>\n",
       "    <tr>\n",
       "      <th>2024-11-01</th>\n",
       "      <td>50.806545</td>\n",
       "      <td>136.219793</td>\n",
       "    </tr>\n",
       "    <tr>\n",
       "      <th>2024-12-01</th>\n",
       "      <td>42.117893</td>\n",
       "      <td>128.738908</td>\n",
       "    </tr>\n",
       "  </tbody>\n",
       "</table>\n",
       "</div>"
      ],
      "text/plain": [
       "            lower Value  upper Value\n",
       "2023-01-01    45.490120    53.415111\n",
       "2023-02-01    35.384266    51.790397\n",
       "2023-03-01    26.394613    49.916293\n",
       "2023-04-01    17.840281    47.817008\n",
       "2023-05-01    12.095804    48.011263\n",
       "2023-06-01     7.969588    49.380004\n",
       "2023-07-01     4.681602    51.198661\n",
       "2023-08-01     1.795340    53.078564\n",
       "2023-09-01    -1.748040    54.002875\n",
       "2023-10-01    -4.529399    55.427410\n",
       "2023-11-01    -3.324886    60.607777\n",
       "2023-12-01    11.633939    79.339730\n",
       "2024-01-01    23.971340    94.423165\n",
       "2024-02-01    29.226657   101.744782\n",
       "2024-03-01    35.047429   109.378351\n",
       "2024-04-01    42.582861   118.556026\n",
       "2024-05-01    44.729828   122.226595\n",
       "2024-06-01    48.514323   127.449476\n",
       "2024-07-01    49.731187   130.041525\n",
       "2024-08-01    49.855826   131.492926\n",
       "2024-09-01    52.036266   134.961788\n",
       "2024-10-01    53.218446   137.401041\n",
       "2024-11-01    50.806545   136.219793\n",
       "2024-12-01    42.117893   128.738908"
      ]
     },
     "execution_count": 31,
     "metadata": {},
     "output_type": "execute_result"
    }
   ],
   "source": [
    "pred_ci"
   ]
  },
  {
   "cell_type": "code",
   "execution_count": 32,
   "metadata": {},
   "outputs": [
    {
     "data": {
      "text/plain": [
       "Text(0.5, 1.0, 'Inflation')"
      ]
     },
     "execution_count": 32,
     "metadata": {},
     "output_type": "execute_result"
    },
    {
     "data": {
      "image/png": "[encoded data removed]",
      "text/plain": [
       "<Figure size 640x480 with 1 Axes>"
      ]
     },
     "metadata": {},
     "output_type": "display_data"
    }
   ],
   "source": [
    "pred_ci[[\"upper Value\",\"lower Value\"]].head(24).plot()\n",
    "plt.xlabel('Date')\n",
    "plt.ylabel('Price')\n",
    "plt.title(\"Inflation\")"
   ]
  },
  {
   "cell_type": "code",
   "execution_count": 33,
   "metadata": {},
   "outputs": [],
   "source": [
    "pred_ci['Mean'] = (pred_ci['lower Value'] + pred_ci['upper Value'])/2"
   ]
  },
  {
   "cell_type": "code",
   "execution_count": 34,
   "metadata": {},
   "outputs": [
    {
     "data": {
      "text/plain": [
       "2023-01-01    49.452615\n",
       "2023-02-01    43.587331\n",
       "2023-03-01    38.155453\n",
       "2023-04-01    32.828644\n",
       "2023-05-01    30.053533\n",
       "2023-06-01    28.674796\n",
       "2023-07-01    27.940131\n",
       "2023-08-01    27.436952\n",
       "2023-09-01    26.127418\n",
       "2023-10-01    25.449005\n",
       "2023-11-01    28.641446\n",
       "2023-12-01    45.486835\n",
       "2024-01-01    59.197253\n",
       "2024-02-01    65.485719\n",
       "2024-03-01    72.212890\n",
       "2024-04-01    80.569444\n",
       "2024-05-01    83.478211\n",
       "2024-06-01    87.981899\n",
       "2024-07-01    89.886356\n",
       "2024-08-01    90.674376\n",
       "2024-09-01    93.499027\n",
       "2024-10-01    95.309744\n",
       "2024-11-01    93.513169\n",
       "2024-12-01    85.428400\n",
       "Freq: MS, Name: Mean, dtype: float64"
      ]
     },
     "execution_count": 34,
     "metadata": {},
     "output_type": "execute_result"
    }
   ],
   "source": [
    "pred_ci['Mean'].head(24)"
   ]
  },
  {
   "cell_type": "code",
   "execution_count": 35,
   "metadata": {},
   "outputs": [
    {
     "data": {
      "text/plain": [
       "<AxesSubplot:>"
      ]
     },
     "execution_count": 35,
     "metadata": {},
     "output_type": "execute_result"
    },
    {
     "data": {
      "image/png": "[encoded data removed]",
      "text/plain": [
       "<Figure size 640x480 with 1 Axes>"
      ]
     },
     "metadata": {},
     "output_type": "display_data"
    }
   ],
   "source": [
    "pred_ci[\"Mean\"].plot()"
   ]
  },
  {
   "cell_type": "code",
   "execution_count": 36,
   "metadata": {},
   "outputs": [
    {
     "data": {
      "text/html": [
       "<div>\n",
       "<style scoped>\n",
       "    .dataframe tbody tr th:only-of-type {\n",
       "        vertical-align: middle;\n",
       "    }\n",
       "\n",
       "    .dataframe tbody tr th {\n",
       "        vertical-align: top;\n",
       "    }\n",
       "\n",
       "    .dataframe thead th {\n",
       "        text-align: right;\n",
       "    }\n",
       "</style>\n",
       "<table border=\"1\" class=\"dataframe\">\n",
       "  <thead>\n",
       "    <tr style=\"text-align: right;\">\n",
       "      <th></th>\n",
       "      <th>Tarih</th>\n",
       "      <th>Şimdi</th>\n",
       "      <th>Açılış</th>\n",
       "      <th>Yüksek</th>\n",
       "      <th>Düşük</th>\n",
       "      <th>Hac.</th>\n",
       "      <th>Fark %</th>\n",
       "    </tr>\n",
       "  </thead>\n",
       "  <tbody>\n",
       "    <tr>\n",
       "      <th>0</th>\n",
       "      <td>01.01.2004</td>\n",
       "      <td>1,3410</td>\n",
       "      <td>1,4035</td>\n",
       "      <td>1,4045</td>\n",
       "      <td>1,3090</td>\n",
       "      <td>NaN</td>\n",
       "      <td>-4,39%</td>\n",
       "    </tr>\n",
       "    <tr>\n",
       "      <th>1</th>\n",
       "      <td>01.02.2004</td>\n",
       "      <td>1,3270</td>\n",
       "      <td>1,3380</td>\n",
       "      <td>1,3630</td>\n",
       "      <td>1,3020</td>\n",
       "      <td>NaN</td>\n",
       "      <td>-1,04%</td>\n",
       "    </tr>\n",
       "    <tr>\n",
       "      <th>2</th>\n",
       "      <td>01.03.2004</td>\n",
       "      <td>1,3135</td>\n",
       "      <td>1,3265</td>\n",
       "      <td>1,3375</td>\n",
       "      <td>1,3070</td>\n",
       "      <td>NaN</td>\n",
       "      <td>-1,02%</td>\n",
       "    </tr>\n",
       "    <tr>\n",
       "      <th>3</th>\n",
       "      <td>01.04.2004</td>\n",
       "      <td>1,4206</td>\n",
       "      <td>1,3106</td>\n",
       "      <td>1,4576</td>\n",
       "      <td>1,3036</td>\n",
       "      <td>NaN</td>\n",
       "      <td>8,15%</td>\n",
       "    </tr>\n",
       "    <tr>\n",
       "      <th>4</th>\n",
       "      <td>01.05.2004</td>\n",
       "      <td>1,4895</td>\n",
       "      <td>1,4185</td>\n",
       "      <td>1,5755</td>\n",
       "      <td>1,4125</td>\n",
       "      <td>NaN</td>\n",
       "      <td>4,85%</td>\n",
       "    </tr>\n",
       "    <tr>\n",
       "      <th>...</th>\n",
       "      <td>...</td>\n",
       "      <td>...</td>\n",
       "      <td>...</td>\n",
       "      <td>...</td>\n",
       "      <td>...</td>\n",
       "      <td>...</td>\n",
       "      <td>...</td>\n",
       "    </tr>\n",
       "    <tr>\n",
       "      <th>222</th>\n",
       "      <td>01.07.2022</td>\n",
       "      <td>17,9114</td>\n",
       "      <td>16,6968</td>\n",
       "      <td>18,0470</td>\n",
       "      <td>16,5898</td>\n",
       "      <td>NaN</td>\n",
       "      <td>7,30%</td>\n",
       "    </tr>\n",
       "    <tr>\n",
       "      <th>223</th>\n",
       "      <td>01.08.2022</td>\n",
       "      <td>18,1868</td>\n",
       "      <td>17,9084</td>\n",
       "      <td>18,3530</td>\n",
       "      <td>17,6443</td>\n",
       "      <td>NaN</td>\n",
       "      <td>1,54%</td>\n",
       "    </tr>\n",
       "    <tr>\n",
       "      <th>224</th>\n",
       "      <td>01.09.2022</td>\n",
       "      <td>18,5000</td>\n",
       "      <td>18,1976</td>\n",
       "      <td>18,6262</td>\n",
       "      <td>18,0980</td>\n",
       "      <td>NaN</td>\n",
       "      <td>1,72%</td>\n",
       "    </tr>\n",
       "    <tr>\n",
       "      <th>225</th>\n",
       "      <td>01.10.2022</td>\n",
       "      <td>18,5920</td>\n",
       "      <td>18,4895</td>\n",
       "      <td>18,7200</td>\n",
       "      <td>18,3515</td>\n",
       "      <td>NaN</td>\n",
       "      <td>0,50%</td>\n",
       "    </tr>\n",
       "    <tr>\n",
       "      <th>226</th>\n",
       "      <td>01.11.2022</td>\n",
       "      <td>18,6217</td>\n",
       "      <td>18,6169</td>\n",
       "      <td>18,7248</td>\n",
       "      <td>18,3257</td>\n",
       "      <td>NaN</td>\n",
       "      <td>0,16%</td>\n",
       "    </tr>\n",
       "  </tbody>\n",
       "</table>\n",
       "<p>227 rows × 7 columns</p>\n",
       "</div>"
      ],
      "text/plain": [
       "          Tarih    Şimdi   Açılış   Yüksek    Düşük  Hac.  Fark %\n",
       "0    01.01.2004   1,3410   1,4035   1,4045   1,3090   NaN  -4,39%\n",
       "1    01.02.2004   1,3270   1,3380   1,3630   1,3020   NaN  -1,04%\n",
       "2    01.03.2004   1,3135   1,3265   1,3375   1,3070   NaN  -1,02%\n",
       "3    01.04.2004   1,4206   1,3106   1,4576   1,3036   NaN   8,15%\n",
       "4    01.05.2004   1,4895   1,4185   1,5755   1,4125   NaN   4,85%\n",
       "..          ...      ...      ...      ...      ...   ...     ...\n",
       "222  01.07.2022  17,9114  16,6968  18,0470  16,5898   NaN   7,30%\n",
       "223  01.08.2022  18,1868  17,9084  18,3530  17,6443   NaN   1,54%\n",
       "224  01.09.2022  18,5000  18,1976  18,6262  18,0980   NaN   1,72%\n",
       "225  01.10.2022  18,5920  18,4895  18,7200  18,3515   NaN   0,50%\n",
       "226  01.11.2022  18,6217  18,6169  18,7248  18,3257   NaN   0,16%\n",
       "\n",
       "[227 rows x 7 columns]"
      ]
     },
     "execution_count": 36,
     "metadata": {},
     "output_type": "execute_result"
    }
   ],
   "source": [
    "currency=pd.read_csv(\"./Datasets/USD_TRY Geçmiş Verileri.csv\")\n",
    "currency"
   ]
  },
  {
   "cell_type": "code",
   "execution_count": 37,
   "metadata": {},
   "outputs": [],
   "source": [
    "df1=pd.DataFrame()\n",
    "df1[\"USD/TL\"]=currency[\"Şimdi\"]\n",
    "df1=df1.applymap(lambda x: str(x.replace(',','.')))\n",
    "df1[\"USD/TL\"]=df1[\"USD/TL\"].astype(float)\n"
   ]
  },
  {
   "cell_type": "code",
   "execution_count": 38,
   "metadata": {},
   "outputs": [
    {
     "data": {
      "text/html": [
       "<div>\n",
       "<style scoped>\n",
       "    .dataframe tbody tr th:only-of-type {\n",
       "        vertical-align: middle;\n",
       "    }\n",
       "\n",
       "    .dataframe tbody tr th {\n",
       "        vertical-align: top;\n",
       "    }\n",
       "\n",
       "    .dataframe thead th {\n",
       "        text-align: right;\n",
       "    }\n",
       "</style>\n",
       "<table border=\"1\" class=\"dataframe\">\n",
       "  <thead>\n",
       "    <tr style=\"text-align: right;\">\n",
       "      <th></th>\n",
       "      <th>USD/TL</th>\n",
       "    </tr>\n",
       "  </thead>\n",
       "  <tbody>\n",
       "    <tr>\n",
       "      <th>2004-01-01</th>\n",
       "      <td>1.3410</td>\n",
       "    </tr>\n",
       "    <tr>\n",
       "      <th>2004-02-01</th>\n",
       "      <td>1.3270</td>\n",
       "    </tr>\n",
       "    <tr>\n",
       "      <th>2004-03-01</th>\n",
       "      <td>1.3135</td>\n",
       "    </tr>\n",
       "    <tr>\n",
       "      <th>2004-04-01</th>\n",
       "      <td>1.4206</td>\n",
       "    </tr>\n",
       "    <tr>\n",
       "      <th>2004-05-01</th>\n",
       "      <td>1.4895</td>\n",
       "    </tr>\n",
       "    <tr>\n",
       "      <th>...</th>\n",
       "      <td>...</td>\n",
       "    </tr>\n",
       "    <tr>\n",
       "      <th>2022-07-01</th>\n",
       "      <td>17.9114</td>\n",
       "    </tr>\n",
       "    <tr>\n",
       "      <th>2022-08-01</th>\n",
       "      <td>18.1868</td>\n",
       "    </tr>\n",
       "    <tr>\n",
       "      <th>2022-09-01</th>\n",
       "      <td>18.5000</td>\n",
       "    </tr>\n",
       "    <tr>\n",
       "      <th>2022-10-01</th>\n",
       "      <td>18.5920</td>\n",
       "    </tr>\n",
       "    <tr>\n",
       "      <th>2022-11-01</th>\n",
       "      <td>18.6217</td>\n",
       "    </tr>\n",
       "  </tbody>\n",
       "</table>\n",
       "<p>227 rows × 1 columns</p>\n",
       "</div>"
      ],
      "text/plain": [
       "             USD/TL\n",
       "2004-01-01   1.3410\n",
       "2004-02-01   1.3270\n",
       "2004-03-01   1.3135\n",
       "2004-04-01   1.4206\n",
       "2004-05-01   1.4895\n",
       "...             ...\n",
       "2022-07-01  17.9114\n",
       "2022-08-01  18.1868\n",
       "2022-09-01  18.5000\n",
       "2022-10-01  18.5920\n",
       "2022-11-01  18.6217\n",
       "\n",
       "[227 rows x 1 columns]"
      ]
     },
     "execution_count": 38,
     "metadata": {},
     "output_type": "execute_result"
    }
   ],
   "source": [
    "dates= pd.date_range('2004-01-01','2022-12-01' , freq='1M')-pd.offsets.MonthBegin(1)\n",
    "\n",
    "            \n",
    "df1=df1.set_index(dates)\n",
    "df1\n"
   ]
  },
  {
   "cell_type": "code",
   "execution_count": 39,
   "metadata": {},
   "outputs": [
    {
     "data": {
      "text/plain": [
       "<AxesSubplot:>"
      ]
     },
     "execution_count": 39,
     "metadata": {},
     "output_type": "execute_result"
    },
    {
     "data": {
      "image/png": "[encoded data removed]",
      "text/plain": [
       "<Figure size 640x480 with 1 Axes>"
      ]
     },
     "metadata": {},
     "output_type": "display_data"
    }
   ],
   "source": [
    "df1.plot()"
   ]
  },
  {
   "cell_type": "code",
   "execution_count": 40,
   "metadata": {},
   "outputs": [
    {
     "data": {
      "text/html": [
       "<div>\n",
       "<style scoped>\n",
       "    .dataframe tbody tr th:only-of-type {\n",
       "        vertical-align: middle;\n",
       "    }\n",
       "\n",
       "    .dataframe tbody tr th {\n",
       "        vertical-align: top;\n",
       "    }\n",
       "\n",
       "    .dataframe thead th {\n",
       "        text-align: right;\n",
       "    }\n",
       "</style>\n",
       "<table border=\"1\" class=\"dataframe\">\n",
       "  <thead>\n",
       "    <tr style=\"text-align: right;\">\n",
       "      <th></th>\n",
       "      <th>Tarih</th>\n",
       "      <th>Para Arzi(Trilyon TL)</th>\n",
       "    </tr>\n",
       "  </thead>\n",
       "  <tbody>\n",
       "    <tr>\n",
       "      <th>23</th>\n",
       "      <td>2005-12</td>\n",
       "      <td>0.237949</td>\n",
       "    </tr>\n",
       "    <tr>\n",
       "      <th>24</th>\n",
       "      <td>2006-01</td>\n",
       "      <td>0.237353</td>\n",
       "    </tr>\n",
       "    <tr>\n",
       "      <th>25</th>\n",
       "      <td>2006-02</td>\n",
       "      <td>0.242389</td>\n",
       "    </tr>\n",
       "    <tr>\n",
       "      <th>26</th>\n",
       "      <td>2006-03</td>\n",
       "      <td>0.249486</td>\n",
       "    </tr>\n",
       "    <tr>\n",
       "      <th>27</th>\n",
       "      <td>2006-04</td>\n",
       "      <td>0.252192</td>\n",
       "    </tr>\n",
       "    <tr>\n",
       "      <th>...</th>\n",
       "      <td>...</td>\n",
       "      <td>...</td>\n",
       "    </tr>\n",
       "    <tr>\n",
       "      <th>222</th>\n",
       "      <td>2022-07</td>\n",
       "      <td>6.970334</td>\n",
       "    </tr>\n",
       "    <tr>\n",
       "      <th>223</th>\n",
       "      <td>2022-08</td>\n",
       "      <td>7.252514</td>\n",
       "    </tr>\n",
       "    <tr>\n",
       "      <th>224</th>\n",
       "      <td>2022-09</td>\n",
       "      <td>7.48966</td>\n",
       "    </tr>\n",
       "    <tr>\n",
       "      <th>225</th>\n",
       "      <td>2022-10</td>\n",
       "      <td>7.778385</td>\n",
       "    </tr>\n",
       "    <tr>\n",
       "      <th>226</th>\n",
       "      <td>2022-11</td>\n",
       "      <td>7.934883</td>\n",
       "    </tr>\n",
       "  </tbody>\n",
       "</table>\n",
       "<p>204 rows × 2 columns</p>\n",
       "</div>"
      ],
      "text/plain": [
       "       Tarih Para Arzi(Trilyon TL)\n",
       "23   2005-12              0.237949\n",
       "24   2006-01              0.237353\n",
       "25   2006-02              0.242389\n",
       "26   2006-03              0.249486\n",
       "27   2006-04              0.252192\n",
       "..       ...                   ...\n",
       "222  2022-07              6.970334\n",
       "223  2022-08              7.252514\n",
       "224  2022-09               7.48966\n",
       "225  2022-10              7.778385\n",
       "226  2022-11              7.934883\n",
       "\n",
       "[204 rows x 2 columns]"
      ]
     },
     "execution_count": 40,
     "metadata": {},
     "output_type": "execute_result"
    }
   ],
   "source": [
    "#Cleaning the data\n",
    "money_supply=pd.read_excel(\"./Datasets/EVDS.xlsx\")\n",
    "del money_supply['Unnamed: 2']\n",
    "money_supply.columns={\"Tarih\",\"Para Arzi(Trilyon TL)\"}\n",
    "money_supply = money_supply.dropna(axis=0)\n",
    "#Monthly money supply\n",
    "money_supply=money_supply.drop([230,233])\n",
    "money_supply[\"Para Arzi(Trilyon TL)\"]=money_supply[\"Para Arzi(Trilyon TL)\"]/1e+9\n",
    "money_supply\n",
    "\n"
   ]
  },
  {
   "cell_type": "code",
   "execution_count": 41,
   "metadata": {},
   "outputs": [
    {
     "data": {
      "text/html": [
       "<div>\n",
       "<style scoped>\n",
       "    .dataframe tbody tr th:only-of-type {\n",
       "        vertical-align: middle;\n",
       "    }\n",
       "\n",
       "    .dataframe tbody tr th {\n",
       "        vertical-align: top;\n",
       "    }\n",
       "\n",
       "    .dataframe thead th {\n",
       "        text-align: right;\n",
       "    }\n",
       "</style>\n",
       "<table border=\"1\" class=\"dataframe\">\n",
       "  <thead>\n",
       "    <tr style=\"text-align: right;\">\n",
       "      <th></th>\n",
       "      <th>Para Arzi(Trilyon TL)</th>\n",
       "    </tr>\n",
       "  </thead>\n",
       "  <tbody>\n",
       "    <tr>\n",
       "      <th>23</th>\n",
       "      <td>0.237949</td>\n",
       "    </tr>\n",
       "    <tr>\n",
       "      <th>24</th>\n",
       "      <td>0.237353</td>\n",
       "    </tr>\n",
       "    <tr>\n",
       "      <th>25</th>\n",
       "      <td>0.242389</td>\n",
       "    </tr>\n",
       "    <tr>\n",
       "      <th>26</th>\n",
       "      <td>0.249486</td>\n",
       "    </tr>\n",
       "    <tr>\n",
       "      <th>27</th>\n",
       "      <td>0.252192</td>\n",
       "    </tr>\n",
       "    <tr>\n",
       "      <th>...</th>\n",
       "      <td>...</td>\n",
       "    </tr>\n",
       "    <tr>\n",
       "      <th>222</th>\n",
       "      <td>6.970334</td>\n",
       "    </tr>\n",
       "    <tr>\n",
       "      <th>223</th>\n",
       "      <td>7.252514</td>\n",
       "    </tr>\n",
       "    <tr>\n",
       "      <th>224</th>\n",
       "      <td>7.48966</td>\n",
       "    </tr>\n",
       "    <tr>\n",
       "      <th>225</th>\n",
       "      <td>7.778385</td>\n",
       "    </tr>\n",
       "    <tr>\n",
       "      <th>226</th>\n",
       "      <td>7.934883</td>\n",
       "    </tr>\n",
       "  </tbody>\n",
       "</table>\n",
       "<p>204 rows × 1 columns</p>\n",
       "</div>"
      ],
      "text/plain": [
       "    Para Arzi(Trilyon TL)\n",
       "23               0.237949\n",
       "24               0.237353\n",
       "25               0.242389\n",
       "26               0.249486\n",
       "27               0.252192\n",
       "..                    ...\n",
       "222              6.970334\n",
       "223              7.252514\n",
       "224               7.48966\n",
       "225              7.778385\n",
       "226              7.934883\n",
       "\n",
       "[204 rows x 1 columns]"
      ]
     },
     "execution_count": 41,
     "metadata": {},
     "output_type": "execute_result"
    }
   ],
   "source": [
    "dates=pd.date_range('2005-12-01','2022-12-01' , freq='1M')-pd.offsets.MonthBegin(1)\n",
    "del money_supply[\"Tarih\"]\n",
    "money_supply"
   ]
  },
  {
   "cell_type": "code",
   "execution_count": 42,
   "metadata": {},
   "outputs": [
    {
     "data": {
      "text/html": [
       "<div>\n",
       "<style scoped>\n",
       "    .dataframe tbody tr th:only-of-type {\n",
       "        vertical-align: middle;\n",
       "    }\n",
       "\n",
       "    .dataframe tbody tr th {\n",
       "        vertical-align: top;\n",
       "    }\n",
       "\n",
       "    .dataframe thead th {\n",
       "        text-align: right;\n",
       "    }\n",
       "</style>\n",
       "<table border=\"1\" class=\"dataframe\">\n",
       "  <thead>\n",
       "    <tr style=\"text-align: right;\">\n",
       "      <th></th>\n",
       "      <th>Para Arzi(Trilyon TL)</th>\n",
       "    </tr>\n",
       "  </thead>\n",
       "  <tbody>\n",
       "    <tr>\n",
       "      <th>2005-12-01</th>\n",
       "      <td>0.237949</td>\n",
       "    </tr>\n",
       "    <tr>\n",
       "      <th>2006-01-01</th>\n",
       "      <td>0.237353</td>\n",
       "    </tr>\n",
       "    <tr>\n",
       "      <th>2006-02-01</th>\n",
       "      <td>0.242389</td>\n",
       "    </tr>\n",
       "    <tr>\n",
       "      <th>2006-03-01</th>\n",
       "      <td>0.249486</td>\n",
       "    </tr>\n",
       "    <tr>\n",
       "      <th>2006-04-01</th>\n",
       "      <td>0.252192</td>\n",
       "    </tr>\n",
       "    <tr>\n",
       "      <th>...</th>\n",
       "      <td>...</td>\n",
       "    </tr>\n",
       "    <tr>\n",
       "      <th>2022-07-01</th>\n",
       "      <td>6.970334</td>\n",
       "    </tr>\n",
       "    <tr>\n",
       "      <th>2022-08-01</th>\n",
       "      <td>7.252514</td>\n",
       "    </tr>\n",
       "    <tr>\n",
       "      <th>2022-09-01</th>\n",
       "      <td>7.48966</td>\n",
       "    </tr>\n",
       "    <tr>\n",
       "      <th>2022-10-01</th>\n",
       "      <td>7.778385</td>\n",
       "    </tr>\n",
       "    <tr>\n",
       "      <th>2022-11-01</th>\n",
       "      <td>7.934883</td>\n",
       "    </tr>\n",
       "  </tbody>\n",
       "</table>\n",
       "<p>204 rows × 1 columns</p>\n",
       "</div>"
      ],
      "text/plain": [
       "           Para Arzi(Trilyon TL)\n",
       "2005-12-01              0.237949\n",
       "2006-01-01              0.237353\n",
       "2006-02-01              0.242389\n",
       "2006-03-01              0.249486\n",
       "2006-04-01              0.252192\n",
       "...                          ...\n",
       "2022-07-01              6.970334\n",
       "2022-08-01              7.252514\n",
       "2022-09-01               7.48966\n",
       "2022-10-01              7.778385\n",
       "2022-11-01              7.934883\n",
       "\n",
       "[204 rows x 1 columns]"
      ]
     },
     "execution_count": 42,
     "metadata": {},
     "output_type": "execute_result"
    }
   ],
   "source": [
    "money_supply=money_supply.set_index(dates)\n",
    "money_supply"
   ]
  },
  {
   "cell_type": "code",
   "execution_count": 43,
   "metadata": {},
   "outputs": [
    {
     "data": {
      "text/plain": [
       "<AxesSubplot:>"
      ]
     },
     "execution_count": 43,
     "metadata": {},
     "output_type": "execute_result"
    },
    {
     "data": {
      "image/png": "[encoded data removed]",
      "text/plain": [
       "<Figure size 640x480 with 1 Axes>"
      ]
     },
     "metadata": {},
     "output_type": "display_data"
    }
   ],
   "source": [
    "money_supply.plot()"
   ]
  },
  {
   "cell_type": "code",
   "execution_count": 44,
   "metadata": {},
   "outputs": [
    {
     "data": {
      "text/html": [
       "<div>\n",
       "<style scoped>\n",
       "    .dataframe tbody tr th:only-of-type {\n",
       "        vertical-align: middle;\n",
       "    }\n",
       "\n",
       "    .dataframe tbody tr th {\n",
       "        vertical-align: top;\n",
       "    }\n",
       "\n",
       "    .dataframe thead th {\n",
       "        text-align: right;\n",
       "    }\n",
       "</style>\n",
       "<table border=\"1\" class=\"dataframe\">\n",
       "  <thead>\n",
       "    <tr style=\"text-align: right;\">\n",
       "      <th></th>\n",
       "      <th>Tarih</th>\n",
       "      <th>TP APIFON4</th>\n",
       "    </tr>\n",
       "  </thead>\n",
       "  <tbody>\n",
       "    <tr>\n",
       "      <th>0</th>\n",
       "      <td>2011-01</td>\n",
       "      <td>6.25</td>\n",
       "    </tr>\n",
       "    <tr>\n",
       "      <th>1</th>\n",
       "      <td>2011-02</td>\n",
       "      <td>6.25</td>\n",
       "    </tr>\n",
       "    <tr>\n",
       "      <th>2</th>\n",
       "      <td>2011-03</td>\n",
       "      <td>6.25</td>\n",
       "    </tr>\n",
       "    <tr>\n",
       "      <th>3</th>\n",
       "      <td>2011-04</td>\n",
       "      <td>6.25</td>\n",
       "    </tr>\n",
       "    <tr>\n",
       "      <th>4</th>\n",
       "      <td>2011-05</td>\n",
       "      <td>6.25</td>\n",
       "    </tr>\n",
       "    <tr>\n",
       "      <th>...</th>\n",
       "      <td>...</td>\n",
       "      <td>...</td>\n",
       "    </tr>\n",
       "    <tr>\n",
       "      <th>137</th>\n",
       "      <td>2022-06</td>\n",
       "      <td>14.05</td>\n",
       "    </tr>\n",
       "    <tr>\n",
       "      <th>138</th>\n",
       "      <td>2022-07</td>\n",
       "      <td>14</td>\n",
       "    </tr>\n",
       "    <tr>\n",
       "      <th>139</th>\n",
       "      <td>2022-08</td>\n",
       "      <td>13</td>\n",
       "    </tr>\n",
       "    <tr>\n",
       "      <th>140</th>\n",
       "      <td>2022-09</td>\n",
       "      <td>12.04</td>\n",
       "    </tr>\n",
       "    <tr>\n",
       "      <th>141</th>\n",
       "      <td>2022-10</td>\n",
       "      <td>10.5</td>\n",
       "    </tr>\n",
       "  </tbody>\n",
       "</table>\n",
       "<p>142 rows × 2 columns</p>\n",
       "</div>"
      ],
      "text/plain": [
       "       Tarih TP APIFON4\n",
       "0    2011-01       6.25\n",
       "1    2011-02       6.25\n",
       "2    2011-03       6.25\n",
       "3    2011-04       6.25\n",
       "4    2011-05       6.25\n",
       "..       ...        ...\n",
       "137  2022-06      14.05\n",
       "138  2022-07         14\n",
       "139  2022-08         13\n",
       "140  2022-09      12.04\n",
       "141  2022-10       10.5\n",
       "\n",
       "[142 rows x 2 columns]"
      ]
     },
     "execution_count": 44,
     "metadata": {},
     "output_type": "execute_result"
    }
   ],
   "source": [
    "#Cleaning the data\n",
    "interest=pd.read_excel(\"./Datasets/TCMB Ortalama Fonlama Faizi ve Toplam Fonlama Miktar__.xlsx\")\n",
    "del interest['Unnamed: 2']\n",
    "interest=pd.DataFrame(interest.iloc[:142])\n",
    "interest"
   ]
  },
  {
   "cell_type": "code",
   "execution_count": 45,
   "metadata": {},
   "outputs": [
    {
     "data": {
      "text/html": [
       "<div>\n",
       "<style scoped>\n",
       "    .dataframe tbody tr th:only-of-type {\n",
       "        vertical-align: middle;\n",
       "    }\n",
       "\n",
       "    .dataframe tbody tr th {\n",
       "        vertical-align: top;\n",
       "    }\n",
       "\n",
       "    .dataframe thead th {\n",
       "        text-align: right;\n",
       "    }\n",
       "</style>\n",
       "<table border=\"1\" class=\"dataframe\">\n",
       "  <thead>\n",
       "    <tr style=\"text-align: right;\">\n",
       "      <th></th>\n",
       "      <th>Faiz</th>\n",
       "    </tr>\n",
       "  </thead>\n",
       "  <tbody>\n",
       "    <tr>\n",
       "      <th>0</th>\n",
       "      <td>6.25</td>\n",
       "    </tr>\n",
       "    <tr>\n",
       "      <th>1</th>\n",
       "      <td>6.25</td>\n",
       "    </tr>\n",
       "    <tr>\n",
       "      <th>2</th>\n",
       "      <td>6.25</td>\n",
       "    </tr>\n",
       "    <tr>\n",
       "      <th>3</th>\n",
       "      <td>6.25</td>\n",
       "    </tr>\n",
       "    <tr>\n",
       "      <th>4</th>\n",
       "      <td>6.25</td>\n",
       "    </tr>\n",
       "    <tr>\n",
       "      <th>...</th>\n",
       "      <td>...</td>\n",
       "    </tr>\n",
       "    <tr>\n",
       "      <th>137</th>\n",
       "      <td>14.05</td>\n",
       "    </tr>\n",
       "    <tr>\n",
       "      <th>138</th>\n",
       "      <td>14</td>\n",
       "    </tr>\n",
       "    <tr>\n",
       "      <th>139</th>\n",
       "      <td>13</td>\n",
       "    </tr>\n",
       "    <tr>\n",
       "      <th>140</th>\n",
       "      <td>12.04</td>\n",
       "    </tr>\n",
       "    <tr>\n",
       "      <th>141</th>\n",
       "      <td>10.5</td>\n",
       "    </tr>\n",
       "  </tbody>\n",
       "</table>\n",
       "<p>142 rows × 1 columns</p>\n",
       "</div>"
      ],
      "text/plain": [
       "      Faiz\n",
       "0     6.25\n",
       "1     6.25\n",
       "2     6.25\n",
       "3     6.25\n",
       "4     6.25\n",
       "..     ...\n",
       "137  14.05\n",
       "138     14\n",
       "139     13\n",
       "140  12.04\n",
       "141   10.5\n",
       "\n",
       "[142 rows x 1 columns]"
      ]
     },
     "execution_count": 45,
     "metadata": {},
     "output_type": "execute_result"
    }
   ],
   "source": [
    "del interest[\"Tarih\"]\n",
    "interest.columns={\"Faiz\"}\n",
    "interest"
   ]
  },
  {
   "cell_type": "code",
   "execution_count": 46,
   "metadata": {},
   "outputs": [
    {
     "data": {
      "text/html": [
       "<div>\n",
       "<style scoped>\n",
       "    .dataframe tbody tr th:only-of-type {\n",
       "        vertical-align: middle;\n",
       "    }\n",
       "\n",
       "    .dataframe tbody tr th {\n",
       "        vertical-align: top;\n",
       "    }\n",
       "\n",
       "    .dataframe thead th {\n",
       "        text-align: right;\n",
       "    }\n",
       "</style>\n",
       "<table border=\"1\" class=\"dataframe\">\n",
       "  <thead>\n",
       "    <tr style=\"text-align: right;\">\n",
       "      <th></th>\n",
       "      <th>Faiz</th>\n",
       "    </tr>\n",
       "  </thead>\n",
       "  <tbody>\n",
       "    <tr>\n",
       "      <th>2011-01-01</th>\n",
       "      <td>6.25</td>\n",
       "    </tr>\n",
       "    <tr>\n",
       "      <th>2011-02-01</th>\n",
       "      <td>6.25</td>\n",
       "    </tr>\n",
       "    <tr>\n",
       "      <th>2011-03-01</th>\n",
       "      <td>6.25</td>\n",
       "    </tr>\n",
       "    <tr>\n",
       "      <th>2011-04-01</th>\n",
       "      <td>6.25</td>\n",
       "    </tr>\n",
       "    <tr>\n",
       "      <th>2011-05-01</th>\n",
       "      <td>6.25</td>\n",
       "    </tr>\n",
       "    <tr>\n",
       "      <th>...</th>\n",
       "      <td>...</td>\n",
       "    </tr>\n",
       "    <tr>\n",
       "      <th>2022-06-01</th>\n",
       "      <td>14.05</td>\n",
       "    </tr>\n",
       "    <tr>\n",
       "      <th>2022-07-01</th>\n",
       "      <td>14</td>\n",
       "    </tr>\n",
       "    <tr>\n",
       "      <th>2022-08-01</th>\n",
       "      <td>13</td>\n",
       "    </tr>\n",
       "    <tr>\n",
       "      <th>2022-09-01</th>\n",
       "      <td>12.04</td>\n",
       "    </tr>\n",
       "    <tr>\n",
       "      <th>2022-10-01</th>\n",
       "      <td>10.5</td>\n",
       "    </tr>\n",
       "  </tbody>\n",
       "</table>\n",
       "<p>142 rows × 1 columns</p>\n",
       "</div>"
      ],
      "text/plain": [
       "             Faiz\n",
       "2011-01-01   6.25\n",
       "2011-02-01   6.25\n",
       "2011-03-01   6.25\n",
       "2011-04-01   6.25\n",
       "2011-05-01   6.25\n",
       "...           ...\n",
       "2022-06-01  14.05\n",
       "2022-07-01     14\n",
       "2022-08-01     13\n",
       "2022-09-01  12.04\n",
       "2022-10-01   10.5\n",
       "\n",
       "[142 rows x 1 columns]"
      ]
     },
     "execution_count": 46,
     "metadata": {},
     "output_type": "execute_result"
    }
   ],
   "source": [
    "#Creating a time serie\n",
    "dates=pd.date_range('2011-01-01','2022-11-01' , freq='1M')-pd.offsets.MonthBegin(1)\n",
    "interest=interest.set_index(dates)\n",
    "interest"
   ]
  },
  {
   "cell_type": "code",
   "execution_count": 47,
   "metadata": {},
   "outputs": [
    {
     "data": {
      "text/plain": [
       "<AxesSubplot:>"
      ]
     },
     "execution_count": 47,
     "metadata": {},
     "output_type": "execute_result"
    },
    {
     "data": {
      "image/png": "[encoded data removed]",
      "text/plain": [
       "<Figure size 640x480 with 1 Axes>"
      ]
     },
     "metadata": {},
     "output_type": "display_data"
    }
   ],
   "source": [
    "interest.plot()"
   ]
  },
  {
   "attachments": {},
   "cell_type": "markdown",
   "metadata": {},
   "source": [
    "Since the common start date of all datasets is 2011/01/01, we need to start each dataset from that date."
   ]
  },
  {
   "cell_type": "code",
   "execution_count": 48,
   "metadata": {},
   "outputs": [],
   "source": [
    "#Fitting Linear Regression Model\n",
    "y = df.iloc[84:226]\n",
    "y=np.array(y)\n",
    "kur=np.array(df1.iloc[84:226])\n",
    "para_arzi=np.array(money_supply.iloc[61:203])\n",
    "faiz=np.array(pd.DataFrame(interest[\"Faiz\"]))\n",
    "\n",
    "\n",
    "\n",
    "import wbgapi as wb\n",
    "import numpy as np\n",
    "import statsmodels.api as sm\n",
    "\n",
    "import matplotlib.pyplot as plt\n",
    "\n",
    "from sklearn.linear_model import LinearRegression, Ridge, Lasso, ElasticNet\n",
    "para_arzi=para_arzi.astype(float)\n",
    "faiz=faiz.astype(float)\n",
    "X = np.concatenate((kur,para_arzi,faiz), axis=1)\n",
    "y=y.astype(float)\n",
    "\n",
    "\n",
    "\n"
   ]
  },
  {
   "cell_type": "code",
   "execution_count": 49,
   "metadata": {},
   "outputs": [
    {
     "name": "stdout",
     "output_type": "stream",
     "text": [
      "                            OLS Regression Results                            \n",
      "==============================================================================\n",
      "Dep. Variable:                      y   R-squared:                       0.852\n",
      "Model:                            OLS   Adj. R-squared:                  0.849\n",
      "Method:                 Least Squares   F-statistic:                     265.5\n",
      "Date:                Sat, 17 Jun 2023   Prob (F-statistic):           4.18e-57\n",
      "Time:                        16:26:24   Log-Likelihood:                -463.74\n",
      "No. Observations:                 142   AIC:                             935.5\n",
      "Df Residuals:                     138   BIC:                             947.3\n",
      "Df Model:                           3                                         \n",
      "Covariance Type:            nonrobust                                         \n",
      "==============================================================================\n",
      "                 coef    std err          t      P>|t|      [0.025      0.975]\n",
      "------------------------------------------------------------------------------\n",
      "const          1.6767      1.350      1.242      0.217      -0.994       4.347\n",
      "x1            10.6843      1.413      7.559      0.000       7.889      13.479\n",
      "x2           -16.6198      3.484     -4.770      0.000     -23.510      -9.730\n",
      "x3            -0.4674      0.119     -3.911      0.000      -0.704      -0.231\n",
      "==============================================================================\n",
      "Omnibus:                       66.626   Durbin-Watson:                   0.461\n",
      "Prob(Omnibus):                  0.000   Jarque-Bera (JB):              456.498\n",
      "Skew:                          -1.473   Prob(JB):                    7.46e-100\n",
      "Kurtosis:                      11.275   Cond. No.                         96.9\n",
      "==============================================================================\n",
      "\n",
      "Warnings:\n",
      "[1] Standard Errors assume that the covariance matrix of the errors is correctly specified.\n"
     ]
    }
   ],
   "source": [
    "XX = sm.add_constant(X)\n",
    "Y = y\n",
    "model = sm.OLS(Y,XX)\n",
    "results = model.fit()\n",
    "print(results.summary())\n"
   ]
  },
  {
   "cell_type": "code",
   "execution_count": 50,
   "metadata": {},
   "outputs": [],
   "source": [
    "linear_regression_score=0.852"
   ]
  },
  {
   "attachments": {},
   "cell_type": "markdown",
   "metadata": {},
   "source": [
    "## Decision Tree Regressor Model"
   ]
  },
  {
   "cell_type": "code",
   "execution_count": 51,
   "metadata": {},
   "outputs": [],
   "source": [
    "\n",
    "from sklearn import linear_model\n",
    "from sklearn.tree import DecisionTreeRegressor\n",
    "from sklearn.ensemble import RandomForestRegressor\n",
    "from sklearn.metrics import mean_absolute_error\n",
    "from sklearn.metrics import mean_squared_error\n",
    "from sklearn.model_selection import train_test_split"
   ]
  },
  {
   "cell_type": "code",
   "execution_count": 52,
   "metadata": {},
   "outputs": [],
   "source": [
    "X = pd.DataFrame()\n",
    "X[\"Kur\"]=pd.DataFrame(kur)\n",
    "X[\"Para Arzi\"]=pd.DataFrame(para_arzi)\n",
    "X[\"Faiz\"]=pd.DataFrame(faiz)\n"
   ]
  },
  {
   "cell_type": "code",
   "execution_count": 53,
   "metadata": {},
   "outputs": [],
   "source": [
    "#Preparing test and train data\n",
    "X_train_val, X_test, y_train_val, y_test = \\\n",
    "train_test_split(X, Y, test_size = 0.2, random_state = 0)\n",
    "X_train,X_val,y_train,y_val=\\\n",
    "train_test_split(X_train_val, y_train_val, test_size = 0.25, random_state = 0)"
   ]
  },
  {
   "cell_type": "code",
   "execution_count": 54,
   "metadata": {},
   "outputs": [],
   "source": [
    "X_train=np.array(X_train) \n",
    "y_train=np.array(y_train)\n",
    "X_val=np.array(X_val)\n",
    "y_val=np.array(y_val)\n",
    "X_test=np.array(X_test)\n",
    "y_test=np.array(y_test)"
   ]
  },
  {
   "cell_type": "code",
   "execution_count": 55,
   "metadata": {},
   "outputs": [
    {
     "name": "stdout",
     "output_type": "stream",
     "text": [
      "Decision Tree\n",
      "0.991944763164438\n"
     ]
    }
   ],
   "source": [
    "#Fitting model\n",
    "import random\n",
    "dtr = DecisionTreeRegressor()\n",
    "dtr.fit(X_train, y_train)\n",
    "dtr_prediction = dtr.predict(X_test)\n",
    "print(\"Decision Tree\")\n",
    "print(dtr.score(X_test, y_test))\n",
    "decision_tree_score=dtr.score(X_test, y_test)\n"
   ]
  },
  {
   "attachments": {},
   "cell_type": "markdown",
   "metadata": {},
   "source": [
    "## K-Means Model"
   ]
  },
  {
   "cell_type": "code",
   "execution_count": 56,
   "metadata": {},
   "outputs": [],
   "source": [
    "X=X[['Kur','Para Arzi',\"Faiz\"]]\n"
   ]
  },
  {
   "cell_type": "code",
   "execution_count": 57,
   "metadata": {},
   "outputs": [],
   "source": [
    "\n",
    "import pandas as pd\n",
    "import matplotlib.pyplot as plt\n",
    "import seaborn as sns\n",
    "from sklearn import metrics\n",
    "from sklearn.cluster import KMeans\n",
    "from sklearn.preprocessing import StandardScaler\n",
    "import scipy.cluster.hierarchy as hcluster\n",
    "from sklearn.cluster import AgglomerativeClustering"
   ]
  },
  {
   "cell_type": "code",
   "execution_count": 58,
   "metadata": {},
   "outputs": [],
   "source": [
    "Y=pd.DataFrame(Y)\n",
    "data=pd.concat([X,Y],axis=1)\n"
   ]
  },
  {
   "cell_type": "code",
   "execution_count": 59,
   "metadata": {},
   "outputs": [
    {
     "name": "stderr",
     "output_type": "stream",
     "text": [
      "c:\\Users\\Bora\\AppData\\Local\\Programs\\Python\\Python37\\lib\\site-packages\\sklearn\\utils\\validation.py:1692: FutureWarning: Feature names only support names that are all strings. Got feature names with dtypes: ['int', 'str']. An error will be raised in 1.2.\n",
      "  FutureWarning,\n",
      "c:\\Users\\Bora\\AppData\\Local\\Programs\\Python\\Python37\\lib\\site-packages\\sklearn\\utils\\validation.py:1692: FutureWarning: Feature names only support names that are all strings. Got feature names with dtypes: ['int', 'str']. An error will be raised in 1.2.\n",
      "  FutureWarning,\n"
     ]
    }
   ],
   "source": [
    "#Scaling data to 0 and 1\n",
    "scaling=StandardScaler()\n",
    "scaled=scaling.fit_transform(data)"
   ]
  },
  {
   "cell_type": "code",
   "execution_count": 60,
   "metadata": {},
   "outputs": [],
   "source": [
    "scaled_df=pd.DataFrame(scaled,columns=data.columns)"
   ]
  },
  {
   "cell_type": "code",
   "execution_count": 61,
   "metadata": {},
   "outputs": [
    {
     "name": "stderr",
     "output_type": "stream",
     "text": [
      "c:\\Users\\Bora\\AppData\\Local\\Programs\\Python\\Python37\\lib\\site-packages\\sklearn\\utils\\validation.py:1692: FutureWarning: Feature names only support names that are all strings. Got feature names with dtypes: ['int', 'str']. An error will be raised in 1.2.\n",
      "  FutureWarning,\n",
      "c:\\Users\\Bora\\AppData\\Local\\Programs\\Python\\Python37\\lib\\site-packages\\sklearn\\utils\\validation.py:1692: FutureWarning: Feature names only support names that are all strings. Got feature names with dtypes: ['int', 'str']. An error will be raised in 1.2.\n",
      "  FutureWarning,\n",
      "c:\\Users\\Bora\\AppData\\Local\\Programs\\Python\\Python37\\lib\\site-packages\\sklearn\\utils\\validation.py:1692: FutureWarning: Feature names only support names that are all strings. Got feature names with dtypes: ['int', 'str']. An error will be raised in 1.2.\n",
      "  FutureWarning,\n",
      "c:\\Users\\Bora\\AppData\\Local\\Programs\\Python\\Python37\\lib\\site-packages\\sklearn\\utils\\validation.py:1692: FutureWarning: Feature names only support names that are all strings. Got feature names with dtypes: ['int', 'str']. An error will be raised in 1.2.\n",
      "  FutureWarning,\n",
      "c:\\Users\\Bora\\AppData\\Local\\Programs\\Python\\Python37\\lib\\site-packages\\sklearn\\utils\\validation.py:1692: FutureWarning: Feature names only support names that are all strings. Got feature names with dtypes: ['int', 'str']. An error will be raised in 1.2.\n",
      "  FutureWarning,\n",
      "c:\\Users\\Bora\\AppData\\Local\\Programs\\Python\\Python37\\lib\\site-packages\\sklearn\\utils\\validation.py:1692: FutureWarning: Feature names only support names that are all strings. Got feature names with dtypes: ['int', 'str']. An error will be raised in 1.2.\n",
      "  FutureWarning,\n",
      "c:\\Users\\Bora\\AppData\\Local\\Programs\\Python\\Python37\\lib\\site-packages\\sklearn\\utils\\validation.py:1692: FutureWarning: Feature names only support names that are all strings. Got feature names with dtypes: ['int', 'str']. An error will be raised in 1.2.\n",
      "  FutureWarning,\n",
      "c:\\Users\\Bora\\AppData\\Local\\Programs\\Python\\Python37\\lib\\site-packages\\sklearn\\utils\\validation.py:1692: FutureWarning: Feature names only support names that are all strings. Got feature names with dtypes: ['int', 'str']. An error will be raised in 1.2.\n",
      "  FutureWarning,\n",
      "c:\\Users\\Bora\\AppData\\Local\\Programs\\Python\\Python37\\lib\\site-packages\\sklearn\\utils\\validation.py:1692: FutureWarning: Feature names only support names that are all strings. Got feature names with dtypes: ['int', 'str']. An error will be raised in 1.2.\n",
      "  FutureWarning,\n"
     ]
    },
    {
     "data": {
      "image/png": "[encoded data removed]",
      "text/plain": [
       "<Figure size 640x480 with 1 Axes>"
      ]
     },
     "metadata": {},
     "output_type": "display_data"
    }
   ],
   "source": [
    "a=[]\n",
    "K=range(1,10)\n",
    "for i in K:\n",
    "    kmean=KMeans(n_clusters=i)\n",
    "    kmean.fit(data)\n",
    "    a.append(kmean.inertia_)\n",
    "    \n",
    "plt.plot(K,a,marker='o')\n",
    "plt.title('Elbow Method',fontsize=15)\n",
    "plt.xlabel('Number of clusters',fontsize=15)\n",
    "plt.ylabel('Sum of Squared distance',fontsize=15)\n",
    "plt.show()"
   ]
  },
  {
   "cell_type": "code",
   "execution_count": 62,
   "metadata": {},
   "outputs": [
    {
     "name": "stderr",
     "output_type": "stream",
     "text": [
      "c:\\Users\\Bora\\AppData\\Local\\Programs\\Python\\Python37\\lib\\site-packages\\sklearn\\utils\\validation.py:1692: FutureWarning: Feature names only support names that are all strings. Got feature names with dtypes: ['int', 'str']. An error will be raised in 1.2.\n",
      "  FutureWarning,\n"
     ]
    },
    {
     "data": {
      "text/plain": [
       "KMeans(n_clusters=3, random_state=111)"
      ]
     },
     "execution_count": 62,
     "metadata": {},
     "output_type": "execute_result"
    }
   ],
   "source": [
    "#Fitting kmeans model\n",
    "kmeans = KMeans(n_clusters = 3,random_state = 111)\n",
    "kmeans.fit(scaled_df)"
   ]
  },
  {
   "cell_type": "code",
   "execution_count": 63,
   "metadata": {},
   "outputs": [
    {
     "data": {
      "text/plain": [
       "0.6315683677877135"
      ]
     },
     "execution_count": 63,
     "metadata": {},
     "output_type": "execute_result"
    }
   ],
   "source": [
    "\n",
    "kmeans_score=metrics.silhouette_score(scaled_df, kmeans.labels_)\n",
    "metrics.silhouette_score(scaled_df, kmeans.labels_)\n"
   ]
  },
  {
   "attachments": {},
   "cell_type": "markdown",
   "metadata": {},
   "source": [
    "## Support Vector Machine Model"
   ]
  },
  {
   "cell_type": "code",
   "execution_count": 64,
   "metadata": {},
   "outputs": [
    {
     "data": {
      "text/plain": [
       "array([  3,   1,   0,   2,  19,   7,   8,  13,   5,  32,  64,  74,  76,\n",
       "        73,  73,  81,  44,  53,  56,  54,  59,  35,   9,   6,  24,  16,\n",
       "        23,   4,  10,  45,  54,  43,  36,  33,  25,  26,  34,  37,  46,\n",
       "        63,  67,  58,  62,  65,  52,  55,  57,  43,  21,  28,  30,  38,\n",
       "        41,  20,  14,  17,  39,  29,  42,  51,  66,  49,  27,  11,  12,\n",
       "        31,  50,  40,  22,  18,  15,  47,  60,  69,  83,  91,  85,  79,\n",
       "        68,  77,  82,  93,  98,  94,  72,  71,  70,  78,  95, 103, 106,\n",
       "       112, 125, 126, 124, 121, 122, 118, 119, 116, 113, 105, 109, 102,\n",
       "        61,  48,  75,  89,  95,  96,  90,  80,  84,  97,  87,  88,  86,\n",
       "        92,  99, 100, 101, 104, 107, 110, 108, 111, 114, 115, 117, 120,\n",
       "       123, 127, 128, 129, 130, 131, 132, 133, 134, 135, 136, 137],\n",
       "      dtype=int64)"
      ]
     },
     "execution_count": 64,
     "metadata": {},
     "output_type": "execute_result"
    }
   ],
   "source": [
    "from sklearn.preprocessing import LabelEncoder\n",
    "Y=data[0]\n",
    "\n",
    "encoder = LabelEncoder()\n",
    "Y = encoder.fit_transform(Y)\n",
    "Y"
   ]
  },
  {
   "cell_type": "code",
   "execution_count": 65,
   "metadata": {},
   "outputs": [],
   "source": [
    "#Scaling data\n",
    "from sklearn.preprocessing import StandardScaler\n",
    "scaler = StandardScaler()\n",
    "scaler.fit(X)\n",
    "X = scaler.transform(X)"
   ]
  },
  {
   "cell_type": "code",
   "execution_count": 66,
   "metadata": {},
   "outputs": [],
   "source": [
    "from sklearn.model_selection import train_test_split\n",
    "X_train, X_test, y_train, y_test = train_test_split(X, Y, test_size=0.2, random_state=1)"
   ]
  },
  {
   "cell_type": "code",
   "execution_count": 67,
   "metadata": {},
   "outputs": [
    {
     "name": "stdout",
     "output_type": "stream",
     "text": [
      "Accuracy Score:\n",
      "0.0\n"
     ]
    }
   ],
   "source": [
    "#Fitting SVC Model\n",
    "from sklearn.svm import SVC\n",
    "from sklearn import metrics\n",
    "svc=SVC() #Default hyperparameters\n",
    "svc.fit(X_train,y_train)\n",
    "y_pred=svc.predict(X_test)\n",
    "print('Accuracy Score:')\n",
    "print(metrics.accuracy_score(y_test,y_pred))"
   ]
  },
  {
   "cell_type": "code",
   "execution_count": 68,
   "metadata": {},
   "outputs": [
    {
     "name": "stdout",
     "output_type": "stream",
     "text": [
      "Accuracy Score:\n",
      "0.0\n"
     ]
    }
   ],
   "source": [
    "svc=SVC(kernel='linear')\n",
    "svc.fit(X_train,y_train)\n",
    "y_pred=svc.predict(X_test)\n",
    "print('Accuracy Score:')\n",
    "print(metrics.accuracy_score(y_test,y_pred))"
   ]
  },
  {
   "cell_type": "code",
   "execution_count": 69,
   "metadata": {},
   "outputs": [
    {
     "name": "stdout",
     "output_type": "stream",
     "text": [
      "Accuracy Score:\n",
      "0.0\n"
     ]
    }
   ],
   "source": [
    "svc=SVC(kernel='rbf')\n",
    "svc.fit(X_train,y_train)\n",
    "y_pred=svc.predict(X_test)\n",
    "print('Accuracy Score:')\n",
    "print(metrics.accuracy_score(y_test,y_pred))"
   ]
  },
  {
   "cell_type": "code",
   "execution_count": 70,
   "metadata": {},
   "outputs": [
    {
     "name": "stdout",
     "output_type": "stream",
     "text": [
      "Accuracy Score:\n",
      "0.0\n"
     ]
    }
   ],
   "source": [
    "svc=SVC(kernel='poly')\n",
    "svc.fit(X_train,y_train)\n",
    "y_pred=svc.predict(X_test)\n",
    "print('Accuracy Score:')\n",
    "print(metrics.accuracy_score(y_test,y_pred))"
   ]
  },
  {
   "cell_type": "code",
   "execution_count": 71,
   "metadata": {},
   "outputs": [],
   "source": [
    "svc_score=metrics.accuracy_score(y_test,y_pred)"
   ]
  },
  {
   "attachments": {},
   "cell_type": "markdown",
   "metadata": {},
   "source": [
    "## Random Forest Regressor Model"
   ]
  },
  {
   "cell_type": "code",
   "execution_count": 72,
   "metadata": {},
   "outputs": [],
   "source": [
    "from sklearn.model_selection import train_test_split, RandomizedSearchCV\n",
    "from sklearn.ensemble import RandomForestRegressor\n",
    "from sklearn import metrics"
   ]
  },
  {
   "cell_type": "code",
   "execution_count": 73,
   "metadata": {},
   "outputs": [],
   "source": [
    "Y=data[0]"
   ]
  },
  {
   "cell_type": "code",
   "execution_count": 74,
   "metadata": {},
   "outputs": [],
   "source": [
    "xTrain, xTest, yTrain, yTest = train_test_split(X, Y, test_size=1/3, random_state=0)"
   ]
  },
  {
   "cell_type": "code",
   "execution_count": 75,
   "metadata": {},
   "outputs": [],
   "source": [
    "model = RandomForestRegressor()"
   ]
  },
  {
   "cell_type": "code",
   "execution_count": 76,
   "metadata": {},
   "outputs": [],
   "source": [
    "#Preparing model\n",
    "n_estimators = [int(x) for x in np.linspace(start = 100, stop = 1000, num = 20)]\n",
    "max_features = ['auto', 'sqrt']\n",
    "max_depth = [int(x) for x in np.linspace(10, 150, num = 11)]\n",
    "min_samples_split = [2, 5, 10, 20]\n",
    "min_samples_leaf = [1, 2, 4, 10, 20]\n",
    "bootstrap = [True, False]\n",
    "\n",
    "parametrs = {'n_estimators': n_estimators,\n",
    "               'max_features': max_features,\n",
    "               'max_depth': max_depth,\n",
    "               'min_samples_split': min_samples_split,\n",
    "               'min_samples_leaf': min_samples_leaf,\n",
    "               'bootstrap': bootstrap}"
   ]
  },
  {
   "cell_type": "code",
   "execution_count": 77,
   "metadata": {},
   "outputs": [],
   "source": [
    "\n",
    "rnd_search_cv = RandomizedSearchCV(model, parametrs, cv=5)"
   ]
  },
  {
   "cell_type": "code",
   "execution_count": 78,
   "metadata": {},
   "outputs": [
    {
     "data": {
      "text/plain": [
       "RandomizedSearchCV(cv=5, estimator=RandomForestRegressor(),\n",
       "                   param_distributions={'bootstrap': [True, False],\n",
       "                                        'max_depth': [10, 24, 38, 52, 66, 80,\n",
       "                                                      94, 108, 122, 136, 150],\n",
       "                                        'max_features': ['auto', 'sqrt'],\n",
       "                                        'min_samples_leaf': [1, 2, 4, 10, 20],\n",
       "                                        'min_samples_split': [2, 5, 10, 20],\n",
       "                                        'n_estimators': [100, 147, 194, 242,\n",
       "                                                         289, 336, 384, 431,\n",
       "                                                         478, 526, 573, 621,\n",
       "                                                         668, 715, 763, 810,\n",
       "                                                         857, 905, 952, 1000]})"
      ]
     },
     "execution_count": 78,
     "metadata": {},
     "output_type": "execute_result"
    }
   ],
   "source": [
    "#Fitting model\n",
    "rnd_search_cv.fit(xTrain, yTrain)"
   ]
  },
  {
   "cell_type": "code",
   "execution_count": 79,
   "metadata": {},
   "outputs": [
    {
     "name": "stdout",
     "output_type": "stream",
     "text": [
      "R-squared: 0.9921738866605943\n"
     ]
    }
   ],
   "source": [
    "random_forest_score = rnd_search_cv.score(xTrain, yTrain)\n",
    "print(\"R-squared:\", random_forest_score) \n",
    " \n"
   ]
  },
  {
   "cell_type": "code",
   "execution_count": 80,
   "metadata": {},
   "outputs": [
    {
     "data": {
      "text/html": [
       "<div>\n",
       "<style scoped>\n",
       "    .dataframe tbody tr th:only-of-type {\n",
       "        vertical-align: middle;\n",
       "    }\n",
       "\n",
       "    .dataframe tbody tr th {\n",
       "        vertical-align: top;\n",
       "    }\n",
       "\n",
       "    .dataframe thead th {\n",
       "        text-align: right;\n",
       "    }\n",
       "</style>\n",
       "<table border=\"1\" class=\"dataframe\">\n",
       "  <thead>\n",
       "    <tr style=\"text-align: right;\">\n",
       "      <th></th>\n",
       "      <th>Models</th>\n",
       "      <th>Score</th>\n",
       "    </tr>\n",
       "  </thead>\n",
       "  <tbody>\n",
       "    <tr>\n",
       "      <th>0</th>\n",
       "      <td>Linear Regression</td>\n",
       "      <td>0.852000</td>\n",
       "    </tr>\n",
       "    <tr>\n",
       "      <th>1</th>\n",
       "      <td>Decision Tree Regressor</td>\n",
       "      <td>0.991945</td>\n",
       "    </tr>\n",
       "    <tr>\n",
       "      <th>2</th>\n",
       "      <td>K-Means Regressor</td>\n",
       "      <td>0.631568</td>\n",
       "    </tr>\n",
       "    <tr>\n",
       "      <th>3</th>\n",
       "      <td>SVC</td>\n",
       "      <td>0.000000</td>\n",
       "    </tr>\n",
       "    <tr>\n",
       "      <th>4</th>\n",
       "      <td>Random Forest Regressor</td>\n",
       "      <td>0.992174</td>\n",
       "    </tr>\n",
       "  </tbody>\n",
       "</table>\n",
       "</div>"
      ],
      "text/plain": [
       "                    Models     Score\n",
       "0        Linear Regression  0.852000\n",
       "1  Decision Tree Regressor  0.991945\n",
       "2        K-Means Regressor  0.631568\n",
       "3                      SVC  0.000000\n",
       "4  Random Forest Regressor  0.992174"
      ]
     },
     "execution_count": 80,
     "metadata": {},
     "output_type": "execute_result"
    }
   ],
   "source": [
    "#Creating scores table\n",
    "scores=pd.DataFrame()\n",
    "scores[\"Models\"]=[\"Linear Regression\",\"Decision Tree Regressor\",\"K-Means Regressor\",\"SVC\",\"Random Forest Regressor\"]\n",
    "scores[\"Score\"]=linear_regression_score,decision_tree_score,kmeans_score,svc_score,random_forest_score\n",
    "scores"
   ]
  },
  {
   "attachments": {},
   "cell_type": "markdown",
   "metadata": {},
   "source": [
    "### The Decision tree model gives a different score each time it runs, but when we take the average, we encounter results that are extremely close to the Random Forest Regressor model. As a result, we can say that these two models are the best model for inflation.\n",
    "### Moreover,SVC model returned 0 because it is a classification model."
   ]
  }
 ],
 "metadata": {
  "kernelspec": {
   "display_name": "Python 3",
   "language": "python",
   "name": "python3"
  },
  "language_info": {
   "codemirror_mode": {
    "name": "ipython",
    "version": 3
   },
   "file_extension": ".py",
   "mimetype": "text/x-python",
   "name": "python",
   "nbconvert_exporter": "python",
   "pygments_lexer": "ipython3",
   "version": "3.7.6"
  },
  "orig_nbformat": 4,
  "vscode": {
   "interpreter": {
    "hash": "f4b4c62aaa4875226db85e6b013b122e2774d7746e898ecdc06b2fc04bd17fe2"
   }
  }
 },
 "nbformat": 4,
 "nbformat_minor": 2
}
